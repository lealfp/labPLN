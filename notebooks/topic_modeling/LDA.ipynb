{
 "cells": [
  {
   "cell_type": "code",
   "execution_count": 1,
   "id": "88637ed2",
   "metadata": {},
   "outputs": [],
   "source": [
    "import os.path\n",
    "\n",
    "DATASET = 'clicr'\n",
    "DATASET_PATH = '../datasets/'+DATASET+'/titles.txt'\n",
    "\n",
    "OUTPUT_PATH = 'output/'\n",
    "if not os.path.exists(OUTPUT_PATH): os.mkdir(OUTPUT_PATH)\n",
    "OUTPUT_PATH += DATASET + '/'\n",
    "if not os.path.exists(OUTPUT_PATH): os.mkdir(OUTPUT_PATH)\n",
    "\n",
    "with open(DATASET_PATH) as f:\n",
    "    sentences = f.readlines()"
   ]
  },
  {
   "cell_type": "markdown",
   "id": "21d8ccf6",
   "metadata": {},
   "source": [
    "## Gemsim LDA"
   ]
  },
  {
   "cell_type": "code",
   "execution_count": 8,
   "id": "d9c99a29-c324-48de-973b-46b271ad7596",
   "metadata": {},
   "outputs": [],
   "source": [
    "N_TOPICS = 7\n",
    "TOP_WORDS = 20\n",
    "MAX_DF = 0.95\n",
    "MIN_DF = 1"
   ]
  },
  {
   "cell_type": "code",
   "execution_count": 9,
   "id": "d457d173-eb55-422e-89a8-6e5e3f42f96c",
   "metadata": {},
   "outputs": [],
   "source": [
    "from sklearn.feature_extraction.text import TfidfVectorizer\n",
    "from gensim.corpora import Dictionary\n",
    "from gensim.models import CoherenceModel, LdaModel\n",
    "\n",
    "tfidf_model = TfidfVectorizer(max_df=MAX_DF, min_df=MIN_DF)\n",
    "\n",
    "tfidf = tfidf_model.fit_transform(sentences)\n",
    "terms = tfidf_model.get_feature_names_out()\n",
    "terms_by_sentence = tfidf_model.inverse_transform(tfidf)\n",
    "\n",
    "dictionary = Dictionary(terms_by_sentence)\n",
    "corpus = [dictionary.doc2bow(text) for text in terms_by_sentence]\n",
    "texts = [[dictionary[word_id] for word_id, freq in doc] for doc in corpus]"
   ]
  },
  {
   "cell_type": "code",
   "execution_count": 10,
   "id": "5c0b7fdc-b528-4afd-b0bc-abdd656a214f",
   "metadata": {},
   "outputs": [],
   "source": [
    "model = LdaModel(corpus, N_TOPICS, dictionary)\n",
    "\n",
    "cm = CoherenceModel(model=model, texts=texts, corpus=corpus, dictionary=dictionary, coherence='c_v', topn=TOP_WORDS)\n",
    "coherence = cm.get_coherence()  # get coherence value\n",
    "coherence_per_topic = cm.get_coherence_per_topic()"
   ]
  },
  {
   "cell_type": "code",
   "execution_count": 11,
   "id": "a3a7fe8a-022d-4b88-a14c-498ff6f5dd2e",
   "metadata": {},
   "outputs": [
    {
     "name": "stdout",
     "output_type": "stream",
     "text": [
      "Coerência total: 0.24707072645089134\n",
      "Topic 0\n",
      "Top Words: 0.025*\"in\" + 0.024*\"of\" + 0.023*\"and\" + 0.021*\"with\" + 0.013*\"cancer\" + 0.010*\"diagnosis\" + 0.010*\"the\" + 0.009*\"syndrome\" + 0.008*\"for\" + 0.008*\"an\" + 0.008*\"disease\" + 0.007*\"patient\" + 0.007*\"breast\" + 0.007*\"after\" + 0.006*\"case\" + 0.005*\"recurrent\" + 0.005*\"positive\" + 0.005*\"presenting\" + 0.005*\"delayed\" + 0.005*\"valve\"\n",
      "Coherence: 0.24535025168705923\n",
      "\n",
      "Topic 1\n",
      "Top Words: 0.045*\"in\" + 0.042*\"with\" + 0.029*\"patient\" + 0.027*\"and\" + 0.021*\"of\" + 0.013*\"an\" + 0.012*\"as\" + 0.010*\"pulmonary\" + 0.009*\"syndrome\" + 0.009*\"to\" + 0.009*\"presenting\" + 0.008*\"acute\" + 0.008*\"cell\" + 0.008*\"carcinoma\" + 0.006*\"after\" + 0.006*\"for\" + 0.006*\"treatment\" + 0.006*\"spinal\" + 0.005*\"cause\" + 0.005*\"rare\"\n",
      "Coherence: 0.2402498703554657\n",
      "\n",
      "Topic 2\n",
      "Top Words: 0.039*\"of\" + 0.023*\"syndrome\" + 0.023*\"the\" + 0.022*\"in\" + 0.020*\"with\" + 0.015*\"and\" + 0.010*\"an\" + 0.009*\"as\" + 0.009*\"acute\" + 0.009*\"case\" + 0.008*\"to\" + 0.008*\"for\" + 0.008*\"two\" + 0.006*\"venous\" + 0.006*\"thrombosis\" + 0.006*\"presenting\" + 0.006*\"associated\" + 0.005*\"bilateral\" + 0.005*\"cerebral\" + 0.005*\"sign\"\n",
      "Coherence: 0.2556537997545\n",
      "\n",
      "Topic 3\n",
      "Top Words: 0.044*\"of\" + 0.043*\"in\" + 0.024*\"with\" + 0.023*\"the\" + 0.020*\"an\" + 0.012*\"and\" + 0.011*\"by\" + 0.007*\"old\" + 0.007*\"to\" + 0.007*\"artery\" + 0.007*\"unusual\" + 0.007*\"year\" + 0.006*\"patient\" + 0.006*\"infection\" + 0.006*\"disease\" + 0.006*\"young\" + 0.006*\"acute\" + 0.005*\"left\" + 0.005*\"rare\" + 0.005*\"after\"\n",
      "Coherence: 0.24986817528530586\n",
      "\n",
      "Topic 4\n",
      "Top Words: 0.035*\"in\" + 0.032*\"of\" + 0.029*\"with\" + 0.025*\"and\" + 0.017*\"case\" + 0.016*\"the\" + 0.011*\"review\" + 0.011*\"old\" + 0.010*\"year\" + 0.010*\"literature\" + 0.009*\"patient\" + 0.009*\"report\" + 0.009*\"an\" + 0.008*\"by\" + 0.006*\"syndrome\" + 0.006*\"after\" + 0.006*\"as\" + 0.006*\"presenting\" + 0.005*\"to\" + 0.005*\"associated\"\n",
      "Coherence: 0.26612716618448956\n",
      "\n",
      "Topic 5\n",
      "Top Words: 0.038*\"of\" + 0.035*\"in\" + 0.023*\"and\" + 0.021*\"with\" + 0.016*\"the\" + 0.013*\"rare\" + 0.011*\"an\" + 0.009*\"patient\" + 0.009*\"diagnostic\" + 0.009*\"obstruction\" + 0.008*\"induced\" + 0.007*\"case\" + 0.006*\"syndrome\" + 0.006*\"complication\" + 0.005*\"incidental\" + 0.005*\"dilemma\" + 0.005*\"lesions\" + 0.005*\"cyst\" + 0.005*\"as\" + 0.004*\"cause\"\n",
      "Coherence: 0.21762599756559414\n",
      "\n",
      "Topic 6\n",
      "Top Words: 0.072*\"of\" + 0.030*\"the\" + 0.018*\"an\" + 0.017*\"to\" + 0.016*\"in\" + 0.016*\"rare\" + 0.014*\"and\" + 0.012*\"with\" + 0.011*\"as\" + 0.010*\"unusual\" + 0.009*\"case\" + 0.009*\"cause\" + 0.009*\"for\" + 0.009*\"acute\" + 0.007*\"injury\" + 0.007*\"presentation\" + 0.006*\"following\" + 0.006*\"secondary\" + 0.005*\"complication\" + 0.005*\"abdominal\"\n",
      "Coherence: 0.25461982432382513\n",
      "\n"
     ]
    }
   ],
   "source": [
    "print('Coerência total: '+str(coherence))  \n",
    "\n",
    "with open(OUTPUT_PATH + 'ldaresults.txt', \"a\") as file:\n",
    "    print('Hyper-parameters: ', file=file) \n",
    "    print('Resulting Topics: '+str(N_TOPICS) + '\\t TfIdf Threshold: '+str(MAX_DF) + '\\t Top Words: '+str(TOP_WORDS), file=file)   \n",
    "    print('', file=file)\n",
    "\n",
    "    for i in range(len(model.get_topics())):\n",
    "        print('Topic '+str(i), file=file)    \n",
    "        print('Top Words: '+model.print_topic(i,topn=20), file=file)\n",
    "        print('Coherence: '+str(coherence_per_topic[i]), file=file)\n",
    "        print('', file=file)\n",
    "    \n",
    "        print('Topic '+str(i))    \n",
    "        print('Top Words: '+model.print_topic(i,topn=20))\n",
    "        print('Coherence: '+str(coherence_per_topic[i]))\n",
    "        print('')\n",
    "      \n",
    "        \n",
    "    print('Total Coherence: '+str(coherence), file=file)  \n",
    "    print('----------------------------------------------------------------------------', file=file)  "
   ]
  },
  {
   "cell_type": "code",
   "execution_count": null,
   "id": "dec7493e-301d-4096-9f46-c1eefd6ae963",
   "metadata": {},
   "outputs": [],
   "source": []
  },
  {
   "cell_type": "code",
   "execution_count": null,
   "id": "27f3831f-239c-4e70-be4b-01a1143488d8",
   "metadata": {},
   "outputs": [],
   "source": []
  },
  {
   "cell_type": "code",
   "execution_count": null,
   "id": "c0709a93-ed77-46f8-8c6f-e88dfcd1f40a",
   "metadata": {},
   "outputs": [],
   "source": []
  },
  {
   "cell_type": "code",
   "execution_count": null,
   "id": "bb3ea3fb-97b3-4c30-a8f2-c3c03e073730",
   "metadata": {},
   "outputs": [],
   "source": []
  }
 ],
 "metadata": {
  "kernelspec": {
   "display_name": "Python 3 (ipykernel)",
   "language": "python",
   "name": "python3"
  },
  "language_info": {
   "codemirror_mode": {
    "name": "ipython",
    "version": 3
   },
   "file_extension": ".py",
   "mimetype": "text/x-python",
   "name": "python",
   "nbconvert_exporter": "python",
   "pygments_lexer": "ipython3",
   "version": "3.9.10"
  }
 },
 "nbformat": 4,
 "nbformat_minor": 5
}
