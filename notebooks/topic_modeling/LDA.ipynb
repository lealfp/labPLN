{
 "cells": [
  {
   "cell_type": "code",
   "execution_count": 1,
   "id": "88637ed2",
   "metadata": {},
   "outputs": [],
   "source": [
    "import os.path\n",
    "\n",
    "DATASET = 'clicr'\n",
    "DATASET_PATH = '../datasets/'+DATASET+'/cases-titles.txt'\n",
    "\n",
    "OUTPUT_PATH = 'output/'\n",
    "if not os.path.exists(OUTPUT_PATH): os.mkdir(OUTPUT_PATH)\n",
    "OUTPUT_PATH += DATASET + '/'\n",
    "if not os.path.exists(OUTPUT_PATH): os.mkdir(OUTPUT_PATH)\n",
    "\n",
    "with open(DATASET_PATH) as f:\n",
    "    sentences = f.readlines()"
   ]
  },
  {
   "cell_type": "markdown",
   "id": "21d8ccf6",
   "metadata": {},
   "source": [
    "## Gemsim LDA"
   ]
  },
  {
   "cell_type": "code",
   "execution_count": 2,
   "id": "d9c99a29-c324-48de-973b-46b271ad7596",
   "metadata": {},
   "outputs": [],
   "source": [
    "N_TOPICS = 7\n",
    "TOP_WORDS = 10\n",
    "MAX_DF = 0.99"
   ]
  },
  {
   "cell_type": "code",
   "execution_count": 3,
   "id": "d457d173-eb55-422e-89a8-6e5e3f42f96c",
   "metadata": {},
   "outputs": [],
   "source": [
    "from sklearn.feature_extraction.text import TfidfVectorizer\n",
    "from gensim.corpora import Dictionary\n",
    "from gensim.models import CoherenceModel, LdaModel\n",
    "\n",
    "tfidf_model = TfidfVectorizer(max_df=MAX_DF)\n",
    "\n",
    "tfidf = tfidf_model.fit_transform(sentences)\n",
    "terms = tfidf_model.get_feature_names_out()\n",
    "terms_by_sentence = tfidf_model.inverse_transform(tfidf)\n",
    "\n",
    "dictionary = Dictionary(terms_by_sentence)\n",
    "corpus = [dictionary.doc2bow(text) for text in terms_by_sentence]\n",
    "texts = [[dictionary[word_id] for word_id, freq in doc] for doc in corpus]"
   ]
  },
  {
   "cell_type": "code",
   "execution_count": 4,
   "id": "5c0b7fdc-b528-4afd-b0bc-abdd656a214f",
   "metadata": {},
   "outputs": [],
   "source": [
    "model = LdaModel(corpus, N_TOPICS, dictionary)\n",
    "\n",
    "cm = CoherenceModel(model=model, texts=texts, corpus=corpus, dictionary=dictionary, coherence='c_v', topn=TOP_WORDS)\n",
    "# cm = CoherenceModel(topics=[topic for topic in model.show_topics()], texts=texts, corpus=corpus, dictionary=dictionary, coherence='c_v', topn=TOP_WORDS)\n",
    "\n",
    "coherence = cm.get_coherence()  # get coherence value\n",
    "coherence_per_topic = cm.get_coherence_per_topic()"
   ]
  },
  {
   "cell_type": "code",
   "execution_count": 5,
   "id": "a3a7fe8a-022d-4b88-a14c-498ff6f5dd2e",
   "metadata": {},
   "outputs": [
    {
     "name": "stdout",
     "output_type": "stream",
     "text": [
      "Coerência total: 0.3941785698230483\n",
      "Topic 0\n",
      "Top Words: 0.035*\"of\" + 0.020*\"in\" + 0.020*\"with\" + 0.019*\"and\" + 0.018*\"to\" + 0.016*\"as\" + 0.015*\"acute\" + 0.014*\"the\" + 0.013*\"presenting\" + 0.012*\"an\"\n",
      "Coherence: 0.3483961073440106\n",
      "\n",
      "Topic 1\n",
      "Top Words: 0.032*\"of\" + 0.017*\"the\" + 0.015*\"after\" + 0.013*\"and\" + 0.013*\"following\" + 0.013*\"for\" + 0.013*\"injury\" + 0.011*\"with\" + 0.009*\"in\" + 0.009*\"acute\"\n",
      "Coherence: 0.3498337459605543\n",
      "\n",
      "Topic 2\n",
      "Top Words: 0.051*\"of\" + 0.033*\"and\" + 0.032*\"in\" + 0.026*\"the\" + 0.016*\"to\" + 0.014*\"with\" + 0.012*\"case\" + 0.008*\"for\" + 0.008*\"treatment\" + 0.008*\"review\"\n",
      "Coherence: 0.43258555819863664\n",
      "\n",
      "Topic 3\n",
      "Top Words: 0.056*\"of\" + 0.040*\"in\" + 0.032*\"an\" + 0.026*\"the\" + 0.024*\"with\" + 0.019*\"and\" + 0.016*\"unusual\" + 0.014*\"patient\" + 0.011*\"case\" + 0.010*\"cause\"\n",
      "Coherence: 0.4103051129050274\n",
      "\n",
      "Topic 4\n",
      "Top Words: 0.038*\"in\" + 0.034*\"of\" + 0.028*\"with\" + 0.019*\"old\" + 0.018*\"an\" + 0.017*\"year\" + 0.015*\"and\" + 0.012*\"the\" + 0.012*\"cell\" + 0.012*\"carcinoma\"\n",
      "Coherence: 0.4462475982982646\n",
      "\n",
      "Topic 5\n",
      "Top Words: 0.050*\"of\" + 0.019*\"with\" + 0.018*\"in\" + 0.015*\"disease\" + 0.015*\"the\" + 0.014*\"an\" + 0.013*\"presentation\" + 0.012*\"rare\" + 0.011*\"as\" + 0.010*\"unusual\"\n",
      "Coherence: 0.39080610787337977\n",
      "\n",
      "Topic 6\n",
      "Top Words: 0.053*\"in\" + 0.050*\"with\" + 0.023*\"patient\" + 0.022*\"of\" + 0.022*\"syndrome\" + 0.018*\"and\" + 0.010*\"as\" + 0.010*\"the\" + 0.009*\"pulmonary\" + 0.009*\"acute\"\n",
      "Coherence: 0.38107575818146494\n",
      "\n"
     ]
    }
   ],
   "source": [
    "print('Coerência total: '+str(coherence))  \n",
    "with open(OUTPUT_PATH + 'ldaresults.txt', \"a\") as file:\n",
    "    print('Hyper-parameters: ', file=file) \n",
    "    print('Resulting Topics: '+str(N_TOPICS) + '\\t TfIdf Threshold: '+str(MAX_DF) + '\\t Top Words: '+str(TOP_WORDS), file=file)   \n",
    "    print('', file=file)\n",
    "\n",
    "    for i in range(len(model.get_topics())):\n",
    "        print('Topic '+str(i), file=file)    \n",
    "        print('Top Words: '+model.print_topic(i,topn=TOP_WORDS), file=file)\n",
    "        print('Coherence: '+str(coherence_per_topic[i]), file=file)\n",
    "        print('', file=file)\n",
    "    \n",
    "        print('Topic '+str(i))    \n",
    "        print('Top Words: '+model.print_topic(i,topn=TOP_WORDS))\n",
    "        print('Coherence: '+str(coherence_per_topic[i]))\n",
    "        print('')\n",
    "      \n",
    "    print('Total Coherence: '+str(coherence), file=file)  \n",
    "    print('----------------------------------------------------------------------------', file=file)  "
   ]
  },
  {
   "cell_type": "markdown",
   "id": "13f7dd79-d3e1-41a4-9d20-4640d03a45f4",
   "metadata": {},
   "source": [
    "## Printar os 10 melhores e os 10 piores tópicos"
   ]
  },
  {
   "cell_type": "code",
   "execution_count": 6,
   "id": "9b5fa3f7-bc29-4698-be1b-32e81c658ef3",
   "metadata": {},
   "outputs": [
    {
     "name": "stdout",
     "output_type": "stream",
     "text": [
      "Tópico 0\n",
      "coherence: 0.3483961073440106\n",
      "Top Words: 0.035*\"of\" + 0.020*\"in\" + 0.020*\"with\" + 0.019*\"and\" + 0.018*\"to\" + 0.016*\"as\" + 0.015*\"acute\" + 0.014*\"the\" + 0.013*\"presenting\" + 0.012*\"an\" + 0.011*\"rare\" + 0.008*\"patient\" + 0.007*\"cause\" + 0.007*\"secondary\" + 0.007*\"small\" + 0.007*\"thrombosis\" + 0.006*\"by\" + 0.006*\"artery\" + 0.006*\"due\" + 0.005*\"induced\"\n",
      "Tópico 1\n",
      "coherence: 0.3498337459605543\n",
      "Top Words: 0.032*\"of\" + 0.017*\"the\" + 0.015*\"after\" + 0.013*\"and\" + 0.013*\"following\" + 0.013*\"for\" + 0.013*\"injury\" + 0.011*\"with\" + 0.009*\"in\" + 0.009*\"acute\" + 0.008*\"by\" + 0.008*\"an\" + 0.007*\"pancreatitis\" + 0.006*\"induced\" + 0.006*\"traumatic\" + 0.006*\"abdominal\" + 0.005*\"haematoma\" + 0.005*\"replacement\" + 0.005*\"syndrome\" + 0.005*\"high\"\n",
      "Tópico 6\n",
      "coherence: 0.38107575818146494\n",
      "Top Words: 0.038*\"in\" + 0.034*\"of\" + 0.028*\"with\" + 0.019*\"old\" + 0.018*\"an\" + 0.017*\"year\" + 0.015*\"and\" + 0.012*\"the\" + 0.012*\"cell\" + 0.012*\"carcinoma\" + 0.009*\"to\" + 0.008*\"for\" + 0.007*\"child\" + 0.007*\"as\" + 0.007*\"spontaneous\" + 0.006*\"tumour\" + 0.006*\"lymphoma\" + 0.006*\"treatment\" + 0.006*\"primary\" + 0.006*\"rare\"\n",
      "Tópico 5\n",
      "coherence: 0.39080610787337977\n",
      "Top Words: 0.051*\"of\" + 0.033*\"and\" + 0.032*\"in\" + 0.026*\"the\" + 0.016*\"to\" + 0.014*\"with\" + 0.012*\"case\" + 0.008*\"for\" + 0.008*\"treatment\" + 0.008*\"review\" + 0.007*\"an\" + 0.007*\"patient\" + 0.007*\"artery\" + 0.007*\"syndrome\" + 0.007*\"after\" + 0.006*\"literature\" + 0.006*\"rare\" + 0.006*\"report\" + 0.006*\"fracture\" + 0.006*\"management\"\n",
      "Tópico 3\n",
      "coherence: 0.4103051129050274\n",
      "Top Words: 0.050*\"of\" + 0.019*\"with\" + 0.018*\"in\" + 0.015*\"disease\" + 0.015*\"the\" + 0.014*\"an\" + 0.013*\"presentation\" + 0.012*\"rare\" + 0.011*\"as\" + 0.010*\"unusual\" + 0.009*\"case\" + 0.007*\"carcinoma\" + 0.007*\"bilateral\" + 0.006*\"tumour\" + 0.006*\"to\" + 0.005*\"nerve\" + 0.005*\"anterior\" + 0.005*\"presenting\" + 0.005*\"breast\" + 0.005*\"for\"\n",
      "Tópico 2\n",
      "coherence: 0.43258555819863664\n",
      "Top Words: 0.053*\"in\" + 0.050*\"with\" + 0.023*\"patient\" + 0.022*\"of\" + 0.022*\"syndrome\" + 0.018*\"and\" + 0.010*\"as\" + 0.010*\"the\" + 0.009*\"pulmonary\" + 0.009*\"acute\" + 0.009*\"associated\" + 0.008*\"presenting\" + 0.007*\"induced\" + 0.007*\"chronic\" + 0.006*\"endocarditis\" + 0.005*\"leukaemia\" + 0.005*\"child\" + 0.005*\"young\" + 0.004*\"by\" + 0.004*\"for\"\n",
      "Tópico 4\n",
      "coherence: 0.4462475982982646\n",
      "Top Words: 0.056*\"of\" + 0.040*\"in\" + 0.032*\"an\" + 0.026*\"the\" + 0.024*\"with\" + 0.019*\"and\" + 0.016*\"unusual\" + 0.014*\"patient\" + 0.011*\"case\" + 0.010*\"cause\" + 0.008*\"disease\" + 0.007*\"acute\" + 0.007*\"presentation\" + 0.006*\"rare\" + 0.006*\"pain\" + 0.006*\"by\" + 0.006*\"to\" + 0.006*\"artery\" + 0.005*\"diagnosis\" + 0.005*\"recurrent\"\n"
     ]
    }
   ],
   "source": [
    "from numpy import argsort\n",
    "\n",
    "sorted_coherences = sorted(coherence_per_topic)\n",
    "args = argsort(coherence_per_topic)\n",
    "\n",
    "j=0\n",
    "for i in args:\n",
    "    j+=1\n",
    "    # print(i)\n",
    "    # print(args[i])\n",
    "    # print(coherence_per_topic[args[i]])\n",
    "    if (j<10 or j>190):\n",
    "        print('Tópico '+str(i))\n",
    "        print('coherence: ' + str(coherence_per_topic[i]))\n",
    "        print('Top Words: '+model.print_topic(args[i],topn=20))"
   ]
  }
 ],
 "metadata": {
  "kernelspec": {
   "display_name": "Python 3 (ipykernel)",
   "language": "python",
   "name": "python3"
  },
  "language_info": {
   "codemirror_mode": {
    "name": "ipython",
    "version": 3
   },
   "file_extension": ".py",
   "mimetype": "text/x-python",
   "name": "python",
   "nbconvert_exporter": "python",
   "pygments_lexer": "ipython3",
   "version": "3.10.6"
  }
 },
 "nbformat": 4,
 "nbformat_minor": 5
}
