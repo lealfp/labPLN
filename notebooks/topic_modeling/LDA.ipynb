{
 "cells": [
  {
   "cell_type": "code",
   "execution_count": 1,
   "id": "88637ed2",
   "metadata": {},
   "outputs": [],
   "source": [
    "import os.path\n",
    "\n",
    "DATASET = 'clicr'\n",
    "DATASET_PATH = '../datasets/'+DATASET+'/cases-titles.txt'\n",
    "\n",
    "OUTPUT_PATH = 'output/'\n",
    "if not os.path.exists(OUTPUT_PATH): os.mkdir(OUTPUT_PATH)\n",
    "OUTPUT_PATH += DATASET + '/'\n",
    "if not os.path.exists(OUTPUT_PATH): os.mkdir(OUTPUT_PATH)\n",
    "\n",
    "with open(DATASET_PATH) as f:\n",
    "    sentences = f.readlines()"
   ]
  },
  {
   "cell_type": "markdown",
   "id": "21d8ccf6",
   "metadata": {},
   "source": [
    "## Gemsim LDA"
   ]
  },
  {
   "cell_type": "code",
   "execution_count": 2,
   "id": "d9c99a29-c324-48de-973b-46b271ad7596",
   "metadata": {},
   "outputs": [],
   "source": [
    "k = 3\n",
    "MAX_DF = 0.1"
   ]
  },
  {
   "cell_type": "code",
   "execution_count": 3,
   "id": "d457d173-eb55-422e-89a8-6e5e3f42f96c",
   "metadata": {},
   "outputs": [
    {
     "name": "stdout",
     "output_type": "stream",
     "text": [
      "Total Words:  12126\n"
     ]
    }
   ],
   "source": [
    "from sklearn.feature_extraction.text import TfidfVectorizer\n",
    "from gensim.corpora import Dictionary\n",
    "from gensim.models import CoherenceModel, LdaModel\n",
    "\n",
    "tfidf_model = TfidfVectorizer(max_df=MAX_DF, smooth_idf=True, use_idf=True)\n",
    "\n",
    "tfidf = tfidf_model.fit_transform(sentences)\n",
    "terms = tfidf_model.get_feature_names_out()\n",
    "terms_by_sentence = tfidf_model.inverse_transform(tfidf)\n",
    "\n",
    "print(\"Total Words: \" , len(terms))\n",
    "\n",
    "dictionary = Dictionary(terms_by_sentence)\n",
    "corpus = [dictionary.doc2bow(text) for text in terms_by_sentence]"
   ]
  },
  {
   "cell_type": "code",
   "execution_count": 4,
   "id": "5c0b7fdc-b528-4afd-b0bc-abdd656a214f",
   "metadata": {},
   "outputs": [],
   "source": [
    "model = LdaModel(corpus, k, id2word=dictionary)\n",
    "\n",
    "TOP_WORDS = 50\n",
    "\n",
    "topics = []\n",
    "for topic in model.show_topics(num_topics=-1, formatted=False, num_words = TOP_WORDS):\n",
    "    words = []\n",
    "    for i in range(TOP_WORDS):\n",
    "        words.append(topic[:][:][:][:][:][1][i][0])\n",
    "    topics.append(words)\n",
    "    \n",
    "cm = CoherenceModel(topics=topics, texts=terms_by_sentence, dictionary=dictionary, coherence='c_v', topn=TOP_WORDS)\n",
    "\n",
    "coherence = cm.get_coherence() \n",
    "coherence_per_topic = cm.get_coherence_per_topic()"
   ]
  },
  {
   "cell_type": "code",
   "execution_count": 5,
   "id": "a3a7fe8a-022d-4b88-a14c-498ff6f5dd2e",
   "metadata": {},
   "outputs": [
    {
     "name": "stdout",
     "output_type": "stream",
     "text": [
      "Total Coherence: 0.26198984067217296\n",
      "Topic 0\n",
      "Vocabulary:  50\n",
      "Top words:  ['rare', 'to', 'as', 'for', 'artery', 'case', 'presentation', 'acute', 'unusual', 'cause', 'after', 'syndrome', 'presenting', 'by', 'complication', 'patient', 'following', 'treatment', 'induced', 'secondary', 'disease', 'bilateral', 'coronary', 'anterior', 'pulmonary', 'obstruction', 'associated', 'aneurysm', 'due', 'aortic', 'severe', 'injury', 'cardiac', 'right', 'diagnosis', 'from', 'fracture', 'traumatic', 'type', 'report', 'valve', 'malignant', 'on', 'perforation', 'bowel', 'lymphoma', 'stroke', 'cell', 'dislocation', 'pancreatitis']\n",
      "Coherence: 0.23658422318064676\n",
      "\n",
      "Topic 1\n",
      "Vocabulary:  50\n",
      "Top words:  ['disease', 'to', 'patient', 'unusual', 'treatment', 'following', 'old', 'management', 'acute', 'year', 'is', 'for', 'diagnosis', 'as', 'syndrome', 'tumour', 'diagnostic', 'after', 'presenting', 'case', 'associated', 'child', 'not', 'mimicking', 'or', 'non', 'sinus', 'cause', 'due', 'bilateral', 'trauma', 'it', 'nerve', 'surgical', 'use', 'disorder', 'clinical', 'sign', 'pulmonary', 'two', 'boy', 'spontaneous', 'pregnancy', 'unilateral', 'important', 'gastrointestinal', 'resistant', 'successful', 'adult', 'on']\n",
      "Coherence: 0.36015487559225984\n",
      "\n",
      "Topic 2\n",
      "Vocabulary:  50\n",
      "Top words:  ['patient', 'syndrome', 'case', 'to', 'as', 'by', 'carcinoma', 'presenting', 'rare', 'acute', 'cell', 'pain', 'infection', 'after', 'renal', 'induced', 'for', 'pulmonary', 'from', 'cause', 'woman', 'year', 'associated', 'thrombosis', 'chronic', 'abdominal', 'review', 'tuberculosis', 'old', 'primary', 'vein', 'report', 'cerebral', 'literature', 'unusual', 'cancer', 'kidney', 'secondary', 'injury', 'pregnancy', 'infarction', 'therapy', 'left', 'following', 'disease', 'giant', 'due', 'bilateral', 'endocarditis', 'breast']\n",
      "Coherence: 0.1892304232436122\n",
      "\n"
     ]
    }
   ],
   "source": [
    "print('Total Coherence: '+str(coherence))  \n",
    "\n",
    "with open(OUTPUT_PATH + 'ldaresults.txt', \"a\") as file:\n",
    "    print('Hyper-parameters: ', file=file) \n",
    "    print('Resulting Topics: '+str(k) + '\\t TfIdf Threshold: '+str(MAX_DF) + '\\t Top Words: '+str(TOP_WORDS), file=file)   \n",
    "    print('', file=file)\n",
    "    print('Total Coherence: '+str(coherence), file=file)  \n",
    "    \n",
    "    for i in range(len(model.get_topics())):\n",
    "        print('Topic '+str(i), file=file) \n",
    "        print('Top words: ',topics[i][:TOP_WORDS], file=file)\n",
    "        print('Coherence: '+str(coherence_per_topic[i]), file=file)\n",
    "        print('', file=file)\n",
    "    \n",
    "        print('Topic '+str(i))    \n",
    "        print('Vocabulary: ', len(topics[i]))\n",
    "        print('Top words: ',topics[i][:TOP_WORDS])\n",
    "        print('Coherence: '+str(coherence_per_topic[i]))\n",
    "        print('')\n",
    "      \n",
    "    print('----------------------------------------------------------------------------', file=file)  "
   ]
  },
  {
   "cell_type": "markdown",
   "id": "5f74b761-fa23-4940-9b70-bab504cb5489",
   "metadata": {},
   "source": [
    "-----------------"
   ]
  },
  {
   "cell_type": "markdown",
   "id": "294a9a28-1783-4bb7-987f-05615e483b56",
   "metadata": {},
   "source": [
    "## Evaluating random topics"
   ]
  },
  {
   "cell_type": "code",
   "execution_count": 6,
   "id": "c6c202e4-9fc9-4977-86ff-9036c42c072f",
   "metadata": {},
   "outputs": [
    {
     "name": "stdout",
     "output_type": "stream",
     "text": [
      "['modalities' 'phosphaturic' 'lumbosciatic' 'congenital' 'duplication'\n",
      " 'rendition' 'mycobacterium' 'nivolumab' 'trip' 'foods' 'atopic'\n",
      " 'appropriate' 'transatrial' 'sigmoidorectal' 'straddling' 'trapdoor'\n",
      " 'generation' 'triplet' 'astrocytic' 'leak' 'femoroacetabular'\n",
      " 'intramucosal' 'beanbag' 'folate' 'minor' 'intrathyroidal' 'outlet'\n",
      " 'lactam' 'hypersomnolence' 'wineskins' 'svad' 'sensorineural'\n",
      " 'interventricular' 'iga' 'amelonatic' 'synuclein' 'fibroelastoma'\n",
      " 'infantile' 'approaches' 'lamellar' 'breaks' 'refers' 'shunting' 'iib'\n",
      " 'inspire' 'xerophthalmia' 'kiss' 'negativity' 'individualised' 'pong']\n",
      "['overload' 'poly' 'uncovered' 'pucker' 'trifascicular' 'nuclei'\n",
      " 'temozolomide' 'placement' 'prudent' 'alien' 'substitution'\n",
      " 'perforations' 'malformations' 'atopic' '54' 'janeway' 'lymphomatoid'\n",
      " 'fifty' 'convulsant' 'intensive' 'supply' 'mononucleosis' 'buttocks'\n",
      " 'carcinoid' 'glaucoma' 'coils' 'preserve' 'microfistulae' 'pence'\n",
      " 'lipoarabinomannan' 'microcatheter' 'osteonecrosis' 'c2orf34'\n",
      " 'nasendoscopy' 'invasive' 'trigger' 'racemose' 'asteroid' 'biochemical'\n",
      " 'thalami' 'epicardial' 'overview' 'temporal' 'tamoxifen' 'border'\n",
      " 'rhombencephalitis' 'henna' 'nodular' 'igg4' 'determined']\n",
      "['programme' 'primacy' 'parry' 'blind' 'seminomatous' 'tazobactam'\n",
      " 'polycystic' 'sscd' 'radiologically' 'cetuximab' 'midaortic' 'papillon'\n",
      " 'apsgn' 'ears' 'avr' 'neuii' 'nodules' 'aetiological' 'fasting'\n",
      " 'phalangeal' 'pressor' 'perforation' 'grave' 'lipschütz' 'nasogastric'\n",
      " 'myeloradiculopathy' 'flexure' 'sense' 'mouth' 'parotid' 'utility'\n",
      " 'seesaw' 'deformans' 'psychodynamic' 'allen' 'triamcinolone'\n",
      " 'acupuncture' 'delineation' 'particles' 'inexpensive' 'moebius' 'should'\n",
      " 'accelerated' 'prior' 'magnets' 'transatrial' 'juniper' 'main' 'toxocara'\n",
      " 'lasting']\n",
      "0.8761915521770861\n",
      "[0.8709927961393653, 0.8814201708264714, 0.8761616895654214]\n"
     ]
    }
   ],
   "source": [
    "import random\n",
    "import time\n",
    "# print(model.topics[0].words[-10:])\n",
    "\n",
    "TOP_WORDS = 50\n",
    "\n",
    "random_topics = []\n",
    "for i in range(k):\n",
    "    r = terms.copy()\n",
    "    random.shuffle(r)\n",
    "    random_topics.append(r[:TOP_WORDS])\n",
    "\n",
    "for t in random_topics:\n",
    "    print(t[:TOP_WORDS])\n",
    "\n",
    "random_cm = CoherenceModel(topics=random_topics, texts=terms_by_sentence, dictionary=dictionary, coherence=\"c_v\",topn=TOP_WORDS)\n",
    "\n",
    "print(random_cm.get_coherence())\n",
    "print(random_cm.get_coherence_per_topic())"
   ]
  },
  {
   "cell_type": "markdown",
   "id": "55929e66-c222-4b7d-98f4-34819513ad4e",
   "metadata": {},
   "source": [
    "-------------"
   ]
  },
  {
   "cell_type": "markdown",
   "id": "13f7dd79-d3e1-41a4-9d20-4640d03a45f4",
   "metadata": {},
   "source": [
    "## Printing the 10 best and worses topics in ascending sort"
   ]
  },
  {
   "cell_type": "code",
   "execution_count": 7,
   "id": "9b5fa3f7-bc29-4698-be1b-32e81c658ef3",
   "metadata": {},
   "outputs": [
    {
     "name": "stdout",
     "output_type": "stream",
     "text": [
      "Tópico 2\n",
      "coherence: 0.1892304232436122\n",
      "Top Words: 0.008*\"disease\" + 0.008*\"to\" + 0.007*\"patient\" + 0.007*\"unusual\" + 0.007*\"treatment\" + 0.007*\"following\" + 0.006*\"old\" + 0.006*\"management\" + 0.006*\"acute\" + 0.005*\"year\" + 0.005*\"is\" + 0.005*\"for\" + 0.005*\"diagnosis\" + 0.005*\"as\" + 0.005*\"syndrome\" + 0.004*\"tumour\" + 0.004*\"diagnostic\" + 0.004*\"after\" + 0.004*\"presenting\" + 0.004*\"case\" + 0.004*\"associated\" + 0.004*\"child\" + 0.003*\"not\" + 0.003*\"mimicking\" + 0.003*\"or\" + 0.003*\"non\" + 0.003*\"sinus\" + 0.003*\"cause\" + 0.003*\"due\" + 0.003*\"bilateral\" + 0.003*\"trauma\" + 0.003*\"it\" + 0.003*\"nerve\" + 0.002*\"surgical\" + 0.002*\"use\" + 0.002*\"disorder\" + 0.002*\"clinical\" + 0.002*\"sign\" + 0.002*\"pulmonary\" + 0.002*\"two\" + 0.002*\"boy\" + 0.002*\"spontaneous\" + 0.002*\"pregnancy\" + 0.002*\"unilateral\" + 0.002*\"important\" + 0.002*\"gastrointestinal\" + 0.002*\"resistant\" + 0.002*\"successful\" + 0.002*\"adult\" + 0.002*\"on\"\n",
      "Tópico 0\n",
      "coherence: 0.23658422318064676\n",
      "Top Words: 0.019*\"patient\" + 0.013*\"syndrome\" + 0.011*\"case\" + 0.009*\"to\" + 0.009*\"as\" + 0.008*\"by\" + 0.008*\"carcinoma\" + 0.007*\"presenting\" + 0.006*\"rare\" + 0.006*\"acute\" + 0.006*\"cell\" + 0.006*\"pain\" + 0.005*\"infection\" + 0.005*\"after\" + 0.005*\"renal\" + 0.004*\"induced\" + 0.004*\"for\" + 0.004*\"pulmonary\" + 0.004*\"from\" + 0.004*\"cause\" + 0.004*\"woman\" + 0.004*\"year\" + 0.004*\"associated\" + 0.004*\"thrombosis\" + 0.004*\"chronic\" + 0.004*\"abdominal\" + 0.003*\"review\" + 0.003*\"tuberculosis\" + 0.003*\"old\" + 0.003*\"primary\" + 0.003*\"vein\" + 0.003*\"report\" + 0.003*\"cerebral\" + 0.003*\"literature\" + 0.003*\"unusual\" + 0.003*\"cancer\" + 0.003*\"kidney\" + 0.003*\"secondary\" + 0.003*\"injury\" + 0.003*\"pregnancy\" + 0.003*\"infarction\" + 0.003*\"therapy\" + 0.003*\"left\" + 0.003*\"following\" + 0.003*\"disease\" + 0.003*\"giant\" + 0.003*\"due\" + 0.002*\"bilateral\" + 0.002*\"endocarditis\" + 0.002*\"breast\"\n",
      "Tópico 1\n",
      "coherence: 0.36015487559225984\n",
      "Top Words: 0.013*\"rare\" + 0.012*\"to\" + 0.010*\"as\" + 0.010*\"for\" + 0.009*\"artery\" + 0.009*\"case\" + 0.009*\"presentation\" + 0.008*\"acute\" + 0.008*\"unusual\" + 0.007*\"cause\" + 0.006*\"after\" + 0.006*\"syndrome\" + 0.006*\"presenting\" + 0.005*\"by\" + 0.005*\"complication\" + 0.005*\"patient\" + 0.005*\"following\" + 0.004*\"treatment\" + 0.004*\"induced\" + 0.004*\"secondary\" + 0.004*\"disease\" + 0.004*\"bilateral\" + 0.003*\"coronary\" + 0.003*\"anterior\" + 0.003*\"pulmonary\" + 0.003*\"obstruction\" + 0.003*\"associated\" + 0.003*\"aneurysm\" + 0.003*\"due\" + 0.003*\"aortic\" + 0.003*\"severe\" + 0.003*\"injury\" + 0.003*\"cardiac\" + 0.003*\"right\" + 0.003*\"diagnosis\" + 0.003*\"from\" + 0.003*\"fracture\" + 0.003*\"traumatic\" + 0.003*\"type\" + 0.003*\"report\" + 0.002*\"valve\" + 0.002*\"malignant\" + 0.002*\"on\" + 0.002*\"perforation\" + 0.002*\"bowel\" + 0.002*\"lymphoma\" + 0.002*\"stroke\" + 0.002*\"cell\" + 0.002*\"dislocation\" + 0.002*\"pancreatitis\"\n"
     ]
    }
   ],
   "source": [
    "from numpy import argsort\n",
    "\n",
    "sorted_coherences = sorted(coherence_per_topic)\n",
    "args = argsort(coherence_per_topic)\n",
    "\n",
    "j=0\n",
    "for i in args:\n",
    "    j+=1\n",
    "    # print(i)\n",
    "    # print(args[i])\n",
    "    # print(coherence_per_topic[args[i]])\n",
    "    if (j<10 or j>190):\n",
    "        print('Tópico '+str(i))\n",
    "        print('coherence: ' + str(coherence_per_topic[i]))\n",
    "        print('Top Words: '+model.print_topic(args[i],topn=TOP_WORDS))"
   ]
  },
  {
   "cell_type": "code",
   "execution_count": null,
   "id": "0831deb7-6f30-45a3-8c7f-975a39054db4",
   "metadata": {},
   "outputs": [],
   "source": []
  },
  {
   "cell_type": "code",
   "execution_count": null,
   "id": "66e99d48-f0c1-47e3-a784-b04eeb80a1b9",
   "metadata": {},
   "outputs": [],
   "source": []
  },
  {
   "cell_type": "code",
   "execution_count": null,
   "id": "3afcc5ed-5d2d-4695-9763-b2d2a910e7bd",
   "metadata": {},
   "outputs": [],
   "source": [
    "    "
   ]
  }
 ],
 "metadata": {
  "kernelspec": {
   "display_name": "Python 3 (ipykernel)",
   "language": "python",
   "name": "python3"
  },
  "language_info": {
   "codemirror_mode": {
    "name": "ipython",
    "version": 3
   },
   "file_extension": ".py",
   "mimetype": "text/x-python",
   "name": "python",
   "nbconvert_exporter": "python",
   "pygments_lexer": "ipython3",
   "version": "3.11.6"
  }
 },
 "nbformat": 4,
 "nbformat_minor": 5
}
