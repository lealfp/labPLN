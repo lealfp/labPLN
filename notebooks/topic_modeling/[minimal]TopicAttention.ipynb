{
 "cells": [
  {
   "cell_type": "code",
   "execution_count": null,
   "metadata": {},
   "outputs": [],
   "source": [
    "!pip install wordcloud\n",
    "!pip install gensim\n",
    "!pip install -U sentence-transformers"
   ]
  },
  {
   "cell_type": "code",
   "execution_count": 2,
   "metadata": {},
   "outputs": [],
   "source": [
    "class Topic:\n",
    "    def __init__(self, cluster):\n",
    "        self.cluster = cluster\n",
    "        self.sentences = []\n",
    "        self.sentences_dump = \"\"\n",
    "        self.words = []\n",
    "        self.texts = []\n",
    "        self.sorted_terms = []\n",
    "        self.coherence = 0.0\n",
    "        \n",
    "class Collection:\n",
    "    def __init__(self):\n",
    "        self.sentences = []\n",
    "        self.words = []     \n",
    "        self.topics = []\n",
    "        self.topics_coherence = 0.0\n"
   ]
  },
  {
   "cell_type": "markdown",
   "metadata": {
    "tags": []
   },
   "source": [
    "# Step 1: Sentences Modeling"
   ]
  },
  {
   "cell_type": "code",
   "execution_count": 3,
   "metadata": {},
   "outputs": [],
   "source": [
    "MODEL = 'biobert-nli'"
   ]
  },
  {
   "cell_type": "code",
   "execution_count": 4,
   "metadata": {},
   "outputs": [],
   "source": [
    "import os.path\n",
    "import pandas as pd\n",
    "from sentence_transformers import SentenceTransformer\n",
    "\n",
    "DATASET = 'clicr'\n",
    "DATASET_PATH = '../datasets/'+DATASET+'/cases-titles.txt'\n",
    "\n",
    "collection = Collection()\n",
    "with open(DATASET_PATH) as f:\n",
    "    collection.sentences = f.readlines()\n",
    "\n",
    "OUTPUT_PATH = 'output/'\n",
    "if not os.path.exists(OUTPUT_PATH): os.mkdir(OUTPUT_PATH)\n",
    "OUTPUT_PATH += DATASET + '/'\n",
    "if not os.path.exists(OUTPUT_PATH): os.mkdir(OUTPUT_PATH)\n",
    "OUTPUT_PATH += MODEL + '/'\n",
    "if not os.path.exists(OUTPUT_PATH): os.makedirs(OUTPUT_PATH, exist_ok=True)"
   ]
  },
  {
   "cell_type": "code",
   "execution_count": 5,
   "metadata": {},
   "outputs": [],
   "source": [
    "# model = SentenceTransformer(MODEL)\n",
    "# embeddings = model.encode(sentences)\n",
    "\n",
    "MODEL_PATH = '../../models/' + MODEL\n",
    "model = SentenceTransformer(MODEL_PATH)\n",
    "embeddings = model.encode(collection.sentences)"
   ]
  },
  {
   "cell_type": "markdown",
   "metadata": {
    "tags": []
   },
   "source": [
    "# Step 2: Sentences Aggregation"
   ]
  },
  {
   "cell_type": "code",
   "execution_count": 6,
   "metadata": {},
   "outputs": [],
   "source": [
    "DISTANCE_THRESHOLD =  200  # 300 200 190 150 130 125 120 105 103 44.3  31.2 25.8 biobert-nli"
   ]
  },
  {
   "cell_type": "code",
   "execution_count": 7,
   "metadata": {},
   "outputs": [
    {
     "name": "stdout",
     "output_type": "stream",
     "text": [
      "Distance Threshold:  200\n",
      "Resulting Clusters: 3\n"
     ]
    }
   ],
   "source": [
    "from sklearn.cluster import AgglomerativeClustering\n",
    "\n",
    "clustering_model = AgglomerativeClustering(linkage='ward', distance_threshold=DISTANCE_THRESHOLD, n_clusters=None)\n",
    "clustering_model = clustering_model.fit(embeddings)\n",
    "\n",
    "n_clusters = clustering_model.n_clusters_\n",
    "\n",
    "print('Distance Threshold: ', DISTANCE_THRESHOLD)\n",
    "print('Resulting Clusters:',  n_clusters)"
   ]
  },
  {
   "cell_type": "markdown",
   "metadata": {
    "tags": []
   },
   "source": [
    "# Step 3: Representing Topics"
   ]
  },
  {
   "cell_type": "code",
   "execution_count": 8,
   "metadata": {},
   "outputs": [],
   "source": [
    "MAX_DF = 0.99"
   ]
  },
  {
   "cell_type": "code",
   "execution_count": 9,
   "metadata": {},
   "outputs": [],
   "source": [
    "from sklearn.feature_extraction.text import TfidfVectorizer\n",
    "import numpy as np\n",
    "import pandas as pd\n",
    "\n",
    "collection.topics = [Topic(i) for i in range(n_clusters)]\n",
    "    \n",
    "for i in range(len(collection.sentences)):\n",
    "    cluster_index = clustering_model.labels_[i]\n",
    "    collection.topics[cluster_index].sentences.append(collection.sentences[i])\n",
    "    collection.topics[cluster_index].sentences_dump += collection.sentences[i] + \" \"\n",
    "\n",
    "tfidf_model = TfidfVectorizer(max_df=MAX_DF)\n",
    "c_tfidf = tfidf_model.fit_transform([topic.sentences_dump for topic in collection.topics])\n",
    "tfidf_matrix = c_tfidf.toarray()\n",
    "\n",
    "terms = tfidf_model.get_feature_names_out()\n",
    "collection.words = terms\n",
    "\n",
    "terms_by_topic = tfidf_model.inverse_transform(c_tfidf)\n",
    "        \n",
    "for i, topic in enumerate(collection.topics):\n",
    "    sorted_term_indexes = np.argsort(tfidf_matrix[topic.cluster])\n",
    "    sorted_terms = [terms[j] for j in sorted_term_indexes]   \n",
    "    topic.sorted_terms = sorted_terms\n",
    "    topic.words = terms_by_topic[i]"
   ]
  },
  {
   "cell_type": "markdown",
   "metadata": {
    "tags": []
   },
   "source": [
    "# Validação"
   ]
  },
  {
   "cell_type": "code",
   "execution_count": 10,
   "metadata": {},
   "outputs": [],
   "source": [
    "TOP_WORDS = 10"
   ]
  },
  {
   "cell_type": "code",
   "execution_count": null,
   "metadata": {},
   "outputs": [],
   "source": [
    "from gensim.models import CoherenceModel\n",
    "from gensim.corpora import Dictionary\n",
    "\n",
    "dictionary = Dictionary(terms_by_topic)\n",
    "corpus = [dictionary.doc2bow(t) for t in terms_by_topic] # in BoW format.\n",
    "texts = [[dictionary[word_id] for word_id, freq in c] for c in corpus] # (list of list of str, optional) –  texts Tokenized in bow format\n",
    "\n",
    "cm = CoherenceModel(topics=[topic.words for topic in collection.topics], texts=texts, corpus=corpus, dictionary=dictionary, coherence='c_v',topn=TOP_WORDS)\n",
    "\n",
    "collection.topics_coherence = cm.get_coherence()\n",
    "collection.coherence_per_topic = cm.get_coherence_per_topic()\n",
    "\n",
    "for i, coherence in enumerate(collection.coherence_per_topic):\n",
    "    collection.topics[i].coherence = coherence\n",
    "\n",
    "print('Total coherence: ', collection.topics_coherence)\n",
    "print('Coherence by topic: ', collection.coherence_per_topic)    "
   ]
  },
  {
   "cell_type": "code",
   "execution_count": 12,
   "metadata": {},
   "outputs": [],
   "source": [
    "with open(OUTPUT_PATH + '/[minimal]topic-attention-results.txt', \"a\") as file:\n",
    "    print('Hyper-parameters: ', file=file) \n",
    "    print('Language Model: ' + MODEL + '\\t Distance Threshold: '+str(DISTANCE_THRESHOLD) + '\\t Resulting Topics: '+str(n_clusters) + '\\t TfIdf Threshold: '+str(MAX_DF) + '\\t Top Words: '+str(TOP_WORDS), file=file)   \n",
    "    print(\"\", file=file)\n",
    "    for topic in collection.topics:\n",
    "        print('Topic '+str(topic.cluster), file=file)    \n",
    "        print('Documents length: '+str(len(topic.sentences)), file=file)\n",
    "        print('Terms length: '+str(len(topic.words)), file=file)\n",
    "\n",
    "        print('Coherence: '+str(topic.coherence), file=file)\n",
    "        print('Top Words: '+str(topic.sorted_terms[-TOP_WORDS:]), file=file)  \n",
    "        print('', file=file)\n",
    "\n",
    "    print('Total Coherence: '+str(collection.topics_coherence), file=file)  \n",
    "    print('Total Terms considered: '+str(len(collection.words)), file=file)\n",
    "    print('----------------------------------------------------------------------------', file=file)  "
   ]
  }
 ],
 "metadata": {
  "kernelspec": {
   "display_name": "Python 3 (ipykernel)",
   "language": "python",
   "name": "python3"
  },
  "language_info": {
   "codemirror_mode": {
    "name": "ipython",
    "version": 3
   },
   "file_extension": ".py",
   "mimetype": "text/x-python",
   "name": "python",
   "nbconvert_exporter": "python",
   "pygments_lexer": "ipython3",
   "version": "3.10.6"
  },
  "toc-showcode": true
 },
 "nbformat": 4,
 "nbformat_minor": 4
}
