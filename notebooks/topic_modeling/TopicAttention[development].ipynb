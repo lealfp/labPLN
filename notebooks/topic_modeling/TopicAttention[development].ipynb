{
 "cells": [
  {
   "cell_type": "code",
   "execution_count": null,
   "metadata": {},
   "outputs": [
    {
     "name": "stdout",
     "output_type": "stream",
     "text": [
      "Requirement already satisfied: wordcloud in /opt/conda/lib/python3.10/site-packages (1.8.2.2)\n",
      "Requirement already satisfied: pillow in /opt/conda/lib/python3.10/site-packages (from wordcloud) (9.2.0)\n",
      "Requirement already satisfied: numpy>=1.6.1 in /opt/conda/lib/python3.10/site-packages (from wordcloud) (1.22.4)\n",
      "Requirement already satisfied: matplotlib in /opt/conda/lib/python3.10/site-packages (from wordcloud) (3.5.3)\n",
      "Requirement already satisfied: kiwisolver>=1.0.1 in /opt/conda/lib/python3.10/site-packages (from matplotlib->wordcloud) (1.4.4)\n",
      "Requirement already satisfied: packaging>=20.0 in /opt/conda/lib/python3.10/site-packages (from matplotlib->wordcloud) (21.3)\n",
      "Requirement already satisfied: pyparsing>=2.2.1 in /opt/conda/lib/python3.10/site-packages (from matplotlib->wordcloud) (3.0.9)\n",
      "Requirement already satisfied: cycler>=0.10 in /opt/conda/lib/python3.10/site-packages (from matplotlib->wordcloud) (0.11.0)\n",
      "Requirement already satisfied: fonttools>=4.22.0 in /opt/conda/lib/python3.10/site-packages (from matplotlib->wordcloud) (4.37.1)\n",
      "Requirement already satisfied: python-dateutil>=2.7 in /opt/conda/lib/python3.10/site-packages (from matplotlib->wordcloud) (2.8.2)\n",
      "Requirement already satisfied: six>=1.5 in /opt/conda/lib/python3.10/site-packages (from python-dateutil>=2.7->matplotlib->wordcloud) (1.16.0)\n",
      "Requirement already satisfied: gensim in /opt/conda/lib/python3.10/site-packages (4.2.0)\n",
      "Requirement already satisfied: scipy>=0.18.1 in /opt/conda/lib/python3.10/site-packages (from gensim) (1.9.1)\n",
      "Requirement already satisfied: smart-open>=1.8.1 in /opt/conda/lib/python3.10/site-packages (from gensim) (6.2.0)\n",
      "Requirement already satisfied: numpy>=1.17.0 in /opt/conda/lib/python3.10/site-packages (from gensim) (1.22.4)\n",
      "Requirement already satisfied: sentence-transformers in /opt/conda/lib/python3.10/site-packages (2.2.2)\n",
      "Requirement already satisfied: nltk in /opt/conda/lib/python3.10/site-packages (from sentence-transformers) (3.7)\n",
      "Requirement already satisfied: tqdm in /opt/conda/lib/python3.10/site-packages (from sentence-transformers) (4.64.1)\n",
      "Requirement already satisfied: scikit-learn in /opt/conda/lib/python3.10/site-packages (from sentence-transformers) (1.1.2)\n",
      "Requirement already satisfied: scipy in /opt/conda/lib/python3.10/site-packages (from sentence-transformers) (1.9.1)\n",
      "Requirement already satisfied: torch>=1.6.0 in /opt/conda/lib/python3.10/site-packages (from sentence-transformers) (1.12.1)\n",
      "Requirement already satisfied: sentencepiece in /opt/conda/lib/python3.10/site-packages (from sentence-transformers) (0.1.97)\n",
      "Requirement already satisfied: transformers<5.0.0,>=4.6.0 in /opt/conda/lib/python3.10/site-packages (from sentence-transformers) (4.22.1)\n",
      "Requirement already satisfied: torchvision in /opt/conda/lib/python3.10/site-packages (from sentence-transformers) (0.13.1)\n",
      "Requirement already satisfied: numpy in /opt/conda/lib/python3.10/site-packages (from sentence-transformers) (1.22.4)\n",
      "Requirement already satisfied: huggingface-hub>=0.4.0 in /opt/conda/lib/python3.10/site-packages (from sentence-transformers) (0.9.1)\n",
      "Requirement already satisfied: pyyaml>=5.1 in /opt/conda/lib/python3.10/site-packages (from huggingface-hub>=0.4.0->sentence-transformers) (6.0)\n",
      "Requirement already satisfied: typing-extensions>=3.7.4.3 in /opt/conda/lib/python3.10/site-packages (from huggingface-hub>=0.4.0->sentence-transformers) (4.3.0)\n",
      "Requirement already satisfied: filelock in /opt/conda/lib/python3.10/site-packages (from huggingface-hub>=0.4.0->sentence-transformers) (3.8.0)\n",
      "Requirement already satisfied: packaging>=20.9 in /opt/conda/lib/python3.10/site-packages (from huggingface-hub>=0.4.0->sentence-transformers) (21.3)\n",
      "Requirement already satisfied: requests in /opt/conda/lib/python3.10/site-packages (from huggingface-hub>=0.4.0->sentence-transformers) (2.28.1)\n",
      "Requirement already satisfied: regex!=2019.12.17 in /opt/conda/lib/python3.10/site-packages (from transformers<5.0.0,>=4.6.0->sentence-transformers) (2022.9.13)\n",
      "Requirement already satisfied: tokenizers!=0.11.3,<0.13,>=0.11.1 in /opt/conda/lib/python3.10/site-packages (from transformers<5.0.0,>=4.6.0->sentence-transformers) (0.12.1)\n",
      "Requirement already satisfied: click in /opt/conda/lib/python3.10/site-packages (from nltk->sentence-transformers) (8.1.3)\n",
      "Requirement already satisfied: joblib in /opt/conda/lib/python3.10/site-packages (from nltk->sentence-transformers) (1.1.0)\n",
      "Requirement already satisfied: threadpoolctl>=2.0.0 in /opt/conda/lib/python3.10/site-packages (from scikit-learn->sentence-transformers) (3.1.0)\n",
      "Requirement already satisfied: pillow!=8.3.*,>=5.3.0 in /opt/conda/lib/python3.10/site-packages (from torchvision->sentence-transformers) (9.2.0)\n",
      "Requirement already satisfied: pyparsing!=3.0.5,>=2.0.2 in /opt/conda/lib/python3.10/site-packages (from packaging>=20.9->huggingface-hub>=0.4.0->sentence-transformers) (3.0.9)\n",
      "Requirement already satisfied: urllib3<1.27,>=1.21.1 in /opt/conda/lib/python3.10/site-packages (from requests->huggingface-hub>=0.4.0->sentence-transformers) (1.26.11)\n",
      "Requirement already satisfied: idna<4,>=2.5 in /opt/conda/lib/python3.10/site-packages (from requests->huggingface-hub>=0.4.0->sentence-transformers) (3.3)\n",
      "Requirement already satisfied: certifi>=2017.4.17 in /opt/conda/lib/python3.10/site-packages (from requests->huggingface-hub>=0.4.0->sentence-transformers) (2022.6.15.1)\n",
      "Requirement already satisfied: charset-normalizer<3,>=2 in /opt/conda/lib/python3.10/site-packages (from requests->huggingface-hub>=0.4.0->sentence-transformers) (2.1.1)\n"
     ]
    }
   ],
   "source": [
    "!pip install wordcloud\n",
    "!pip install gensim\n",
    "!pip install -U sentence-transformers"
   ]
  },
  {
   "cell_type": "markdown",
   "metadata": {
    "tags": []
   },
   "source": [
    "# Step 1: Sentences Modeling"
   ]
  },
  {
   "cell_type": "code",
   "execution_count": null,
   "metadata": {},
   "outputs": [],
   "source": [
    "# MODEL = 'bert-base-cased'\n",
    "# MODEL = 'dmis-lab/biobert-base-cased-v1.1'\n",
    "# MODEL = 'bert-sts'\n",
    "# MODEL = 'fagner/envoy'\n",
    "MODEL = 'biobert-nli'"
   ]
  },
  {
   "cell_type": "code",
   "execution_count": null,
   "metadata": {},
   "outputs": [],
   "source": [
    "import os.path\n",
    "import pandas as pd\n",
    "from sentence_transformers import SentenceTransformer\n",
    "\n",
    "DATASET = 'clicr'\n",
    "DATASET_PATH = '../datasets/'+DATASET+'/cases-titles.txt'\n",
    "\n",
    "sentences = []\n",
    "with open(DATASET_PATH) as f:\n",
    "    sentences = f.readlines()\n",
    "\n",
    "OUTPUT_PATH = 'output/'\n",
    "if not os.path.exists(OUTPUT_PATH): os.mkdir(OUTPUT_PATH)\n",
    "OUTPUT_PATH += DATASET + '/'\n",
    "if not os.path.exists(OUTPUT_PATH): os.mkdir(OUTPUT_PATH)\n",
    "OUTPUT_PATH += MODEL + '/'\n",
    "if not os.path.exists(OUTPUT_PATH): os.makedirs(OUTPUT_PATH, exist_ok=True)"
   ]
  },
  {
   "cell_type": "code",
   "execution_count": null,
   "metadata": {},
   "outputs": [],
   "source": [
    "# model = SentenceTransformer(MODEL)\n",
    "# embeddings = model.encode(sentences)\n",
    "\n",
    "MODEL_PATH = '../../models/' + MODEL\n",
    "model = SentenceTransformer(MODEL_PATH)\n",
    "embeddings = model.encode(sentences)"
   ]
  },
  {
   "cell_type": "code",
   "execution_count": null,
   "metadata": {},
   "outputs": [],
   "source": [
    "from matplotlib import pyplot as plt \n",
    "from sklearn import manifold\n",
    "\n",
    "X_2d = manifold.SpectralEmbedding(n_components=2).fit_transform(embeddings)\n",
    " \n",
    "x = X_2d[:,0]\n",
    "y = X_2d[:,1]\n",
    "\n",
    "plt.clf()\n",
    "plt.figure(figsize=(12, 10))\n",
    "plt.scatter(x, y, color='black', s=3)\n",
    "plt.savefig(OUTPUT_PATH + 'sentence-embeddings-'+str(MODEL).replace('/','').replace('.','') + '.jpg', bbox_inches='tight')\n",
    "# plt.savefig(OUTPUT_PATH + 'sentence-embeddings-'+str(MODEL).replace('/','').replace('.','') + '.eps', bbox_inches='tight', format='eps')"
   ]
  },
  {
   "cell_type": "markdown",
   "metadata": {
    "tags": []
   },
   "source": [
    "# Step 2: Sentences Aggregation"
   ]
  },
  {
   "cell_type": "code",
   "execution_count": null,
   "metadata": {},
   "outputs": [],
   "source": [
    "# DISTANCE_THRESHOLD = 10.5 # 100 80 62 60 55 48 44 40.25 40 17.85 15.5 13.79 11.83  10.5    bert-base-cased\n",
    "# DISTANCE_THRESHOLD =  11.8  # 90 77 60 55 52.7 52  51.6 51 50 47 40 21.7 15.7 13.4537 biobert\n",
    "DISTANCE_THRESHOLD =   200 # 300 250 200 190 150 130 125 120 biobert-nli\n",
    "# DISTANCE_THRESHOLD =   300  #  300 250 175 150 145 142 140 130 120 96 95.6 20 sts-bert\n",
    "# DISTANCE_THRESHOLD =   150 # 500 400 300 220 180 156.5 150 130 120 110 36.5 envoy"
   ]
  },
  {
   "cell_type": "code",
   "execution_count": null,
   "metadata": {},
   "outputs": [],
   "source": [
    "from sklearn.cluster import AgglomerativeClustering\n",
    "\n",
    "clustering_model = AgglomerativeClustering(linkage='ward', distance_threshold=DISTANCE_THRESHOLD, n_clusters=None)\n",
    "clustering_model = clustering_model.fit(embeddings)\n",
    "\n",
    "n_clusters = clustering_model.n_clusters_\n",
    "\n",
    "print('Distance Threshold: ', DISTANCE_THRESHOLD)\n",
    "print('Resulting Clusters:',  n_clusters)"
   ]
  },
  {
   "cell_type": "code",
   "execution_count": null,
   "metadata": {},
   "outputs": [],
   "source": [
    "plt.clf()\n",
    "plt.figure(figsize=(10, 8))\n",
    "\n",
    "# plt.scatter(x, y, color=plt.cm.nipy_spectral(clustering_model.labels_[i] / 10.), s=1)\n",
    "plt.scatter(x, y, color='w', s=1)\n",
    "\n",
    "\n",
    "# plt.cm.nipy_spectral(clustering_model.labels_[i] / 10.)\n",
    "\n",
    "for i, sentence in enumerate(sentences):\n",
    "\n",
    "    # plt.annotate(clustering_model.labels_[i], (x[i], y[i]), color='black', fontsize=8)\n",
    "    # plt.annotate('°', (x[i], y[i]), color=plt.cm.nipy_spectral(clustering_model.labels_[i] / 10.), fontsize=20)\n",
    "\n",
    "    plt.annotate(clustering_model.labels_[i], (x[i], y[i]), color=plt.cm.nipy_spectral(clustering_model.labels_[i] / 10.), fontsize=20)\n",
    "    \n",
    "\n",
    "if not os.path.exists(OUTPUT_PATH + str(n_clusters) + 'topics'): os.mkdir(OUTPUT_PATH + str(n_clusters) + 'topics')\n",
    "\n",
    "plt.axis(\"off\")\n",
    "# plt.savefig(OUTPUT_PATH + str(n_clusters) + 'topics/clusters-'+str(MODEL).replace('/','').replace('.','') + '.eps', bbox_inches='tight', format='eps')\n",
    "plt.savefig(OUTPUT_PATH + str(n_clusters) + 'topics/clusters-'+str(MODEL).replace('/','').replace('.','') + '.png', bbox_inches='tight', transparent=True)"
   ]
  },
  {
   "cell_type": "code",
   "execution_count": null,
   "metadata": {},
   "outputs": [],
   "source": [
    "plt.clf()\n",
    "plt.figure(figsize=(2, 1.7))\n",
    "\n",
    "plt.scatter(x, y, color='w', s=1)\n",
    "\n",
    "for i, sentence in enumerate(sentences):\n",
    "    # plt.annotate(clustering_model.labels_[i], (x[i], y[i]), color='gray', fontsize=18)\n",
    "    plt.annotate(clustering_model.labels_[i], (x[i], y[i]), color=plt.cm.nipy_spectral(clustering_model.labels_[i] / 10.), fontsize=5)\n",
    "\n",
    "plt.axis(\"off\")\n",
    "plt.savefig(OUTPUT_PATH + str(n_clusters) + 'topics/clusters-mini-'+str(MODEL).replace('/','').replace('.','')+ '.png', bbox_inches='tight', transparent=True)"
   ]
  },
  {
   "cell_type": "markdown",
   "metadata": {
    "tags": []
   },
   "source": [
    "\n",
    "\n",
    "## Topic Hierarchy"
   ]
  },
  {
   "cell_type": "code",
   "execution_count": null,
   "metadata": {},
   "outputs": [],
   "source": [
    "from scipy.cluster.hierarchy import dendrogram\n",
    "import numpy as np\n",
    "\n",
    "plt.clf()\n",
    "plt.figure(figsize=(13,9))\n",
    "\n",
    "counts = np.zeros(clustering_model.children_.shape[0])\n",
    "n_samples = len(clustering_model.labels_)\n",
    "\n",
    "for i, merge in enumerate(clustering_model.children_):\n",
    "    current_count = 0\n",
    "    for child_idx in merge:\n",
    "        if child_idx < n_samples:\n",
    "            current_count += 1 \n",
    "        else: current_count += counts[child_idx - n_samples]\n",
    "    counts[i] = current_count\n",
    "\n",
    "linkage_matrix = np.column_stack([clustering_model.children_, clustering_model.distances_, counts]).astype(float)\n",
    "\n",
    "r = dendrogram(linkage_matrix, truncate_mode='lastp', p=n_clusters, color_threshold=0, show_contracted=True, above_threshold_color='black')\n",
    "# r = dendrogram(linkage_matrix, truncate_mode=None, above_threshold_color='black', color_threshold=0, no_labels=True)\n",
    "# plt.axhline(c='black', linestyle='--', y=DISTANCE_THRESHOLD) \n",
    "\n",
    "# plt.savefig(OUTPUT_PATH + 'dendrograma-'+str(MODEL).replace('/','').replace('.','')+'.eps', bbox_inches='tight')\n",
    "plt.savefig(OUTPUT_PATH + 'dendrograma-'+str(MODEL).replace('/','').replace('.','')+'.png', bbox_inches='tight')\n"
   ]
  },
  {
   "cell_type": "markdown",
   "metadata": {
    "tags": []
   },
   "source": [
    "# Step 3: Representing Topics"
   ]
  },
  {
   "cell_type": "code",
   "execution_count": null,
   "metadata": {},
   "outputs": [],
   "source": [
    "MAX_DF = 0.99\n",
    "TOP_WORDS = 10"
   ]
  },
  {
   "cell_type": "code",
   "execution_count": null,
   "metadata": {},
   "outputs": [],
   "source": [
    "class Topic:\n",
    "    def __init__(self, cluster):\n",
    "        self.cluster = cluster\n",
    "        self.sentences = []\n",
    "        self.sentences_dump = \"\"\n",
    "        self.wordcloud = WordCloud()\n",
    "        self.terms = []\n",
    "        self.texts = []\n",
    "        self.sorted_terms = []\n",
    "        self.sorted_tfidfs = []\n",
    "        self.coherence = 0.0"
   ]
  },
  {
   "cell_type": "code",
   "execution_count": null,
   "metadata": {},
   "outputs": [],
   "source": [
    "from wordcloud import WordCloud\n",
    "from sklearn.feature_extraction.text import TfidfVectorizer\n",
    "import numpy as np\n",
    "import pandas as pd\n",
    "\n",
    "topics = [Topic(i) for i in range(n_clusters)]\n",
    "# n_cases_by_cluster = [0 for i in range(n_clusters)]\n",
    "\n",
    "for i in range(len(sentences)):\n",
    "    cluster_index = clustering_model.labels_[i]\n",
    "    topics[cluster_index].sentences.append(sentences[i])\n",
    "    topics[cluster_index].sentences_dump += sentences[i] + \" \"\n",
    "    # n_cases_by_cluster[cluster_index] += 1\n",
    "\n",
    "tfidf_model = TfidfVectorizer(max_df=MAX_DF)\n",
    "# tfidf_model = TfidfVectorizer(stop_words='english')\n",
    "\n",
    "c_tfidf = tfidf_model.fit_transform([topic.sentences_dump for topic in topics])\n",
    "\n",
    "terms = tfidf_model.get_feature_names_out()\n",
    "terms_by_topic = tfidf_model.inverse_transform(c_tfidf)\n",
    "tfidf_matrix = c_tfidf.toarray()\n",
    "\n",
    "# print(len(terms))\n",
    "# print(len(terms_by_topic))\n",
    "# for i in terms_by_topic:\n",
    "#     print(len(i))\n",
    "    \n",
    "    \n",
    "for i, topic in enumerate(topics):\n",
    "    sorted_term_indexes = np.argsort(tfidf_matrix[topic.cluster])\n",
    "\n",
    "    sorted_terms, sorted_tfidfs = [], []\n",
    "    for j in sorted_term_indexes:\n",
    "        sorted_terms.append(terms[j])\n",
    "        sorted_tfidfs.append(tfidf_matrix[topic.cluster][j])\n",
    "       \n",
    "    topic.sorted_terms = sorted_terms\n",
    "    topic.sorted_tfidfs = sorted_tfidfs\n",
    "    topic.terms = terms_by_topic[i]\n",
    "    # topic.corpus = \n",
    "    \n",
    "    dense = c_tfidf[topic.cluster].todense()\n",
    "    lst1 = dense.tolist()\n",
    "    tfidf_data_frame = pd.DataFrame(lst1, columns=terms)\n",
    "\n",
    "    topic.wordcloud = WordCloud(mode='RGBA', background_color=\"white\", max_words=TOP_WORDS, color_func=lambda *args, **kwargs: \"black\").generate_from_frequencies(tfidf_data_frame.T.sum(axis=1))"
   ]
  },
  {
   "cell_type": "code",
   "execution_count": null,
   "metadata": {},
   "outputs": [],
   "source": [
    "# len(terms_by_topic[2])"
   ]
  },
  {
   "cell_type": "code",
   "execution_count": null,
   "metadata": {},
   "outputs": [],
   "source": [
    "from matplotlib import pyplot as plt \n",
    "\n",
    "plt.clf()\n",
    "\n",
    "for topic in topics:\n",
    "    # plt.figure(figsize=(5, 4))\n",
    "    plt.figure(figsize=(2.5, 2.5))\n",
    "\n",
    "    plt.imshow(topic.wordcloud)\n",
    "    plt.axis(\"off\")\n",
    "    # plt.show()\n",
    "\n",
    "    if not os.path.exists(OUTPUT_PATH + str(n_clusters) + 'topics'): os.mkdir(OUTPUT_PATH + str(n_clusters) + 'topics')\n",
    "\n",
    "    plt.savefig(OUTPUT_PATH + str(n_clusters) + 'topics/wordcloud'+str(topic.cluster)+'.png', transparent=True, bbox_inches='tight')\n"
   ]
  },
  {
   "cell_type": "code",
   "execution_count": null,
   "metadata": {},
   "outputs": [],
   "source": [
    "# # topics[0].sorted_terms[:10]\n",
    "# for t in topics:\n",
    "#     print(t.sorted_terms[-10:])\n",
    "#     print(t.sorted_tfidfs[-10:])\n",
    "#     print('\\n\\n')\n",
    "\n",
    "#     print(len(t.terms))\n",
    "#     print(len(t.sorted_terms))\n",
    "#     print(len(t.sorted_tfidfs))\n",
    "#     print()\n",
    "\n",
    "\n",
    "#     # sorted_terms[:10]"
   ]
  },
  {
   "cell_type": "code",
   "execution_count": null,
   "metadata": {},
   "outputs": [],
   "source": [
    "# print(tfidf_model.max_df * len(topics))\n",
    "# print()\n",
    "# print(tfidf_model.get_stop_words())\n",
    "# c_tfidf"
   ]
  },
  {
   "cell_type": "markdown",
   "metadata": {
    "tags": []
   },
   "source": [
    "# Validação"
   ]
  },
  {
   "cell_type": "code",
   "execution_count": null,
   "metadata": {},
   "outputs": [],
   "source": [
    "TOP_WORDS = 10"
   ]
  },
  {
   "cell_type": "code",
   "execution_count": null,
   "metadata": {},
   "outputs": [],
   "source": [
    "# texts[1][12]\n",
    "# # print(len(corpus))\n",
    "# # len(dictionary)\n",
    "# # type(dictionary)\n",
    "\n",
    "# len(texts[1])"
   ]
  },
  {
   "cell_type": "code",
   "execution_count": null,
   "metadata": {},
   "outputs": [],
   "source": [
    "# t.dictionary = Dictionary(terms_by_topic)\n",
    "# cprpus = ''\n",
    "# for i, tt in enumerate(terms_by_topic):\n",
    "#     corpus.append(dictionary.doc2bow(tt)) # in BoW format.\n",
    "\n",
    "# # topic.corpus = corpus\n",
    "#     # corpus = [dictionary.doc2bow(t) for t in terms_by_topic] # in BoW format.\n",
    "\n",
    "# for c in corpus:\n",
    "#     # print(c)\n",
    "#     texts.append(dictionary[word_id] for word_id, freq in c) # (list of list of str, optional) –  texts Tokenized in bow format\n",
    "\n",
    "# # corpus = [dictionary.doc2bow(t) for t in terms_by_topic] # in BoW format.\n",
    "\n"
   ]
  },
  {
   "cell_type": "code",
   "execution_count": null,
   "metadata": {},
   "outputs": [],
   "source": [
    "# print(cm)"
   ]
  },
  {
   "cell_type": "code",
   "execution_count": null,
   "metadata": {},
   "outputs": [],
   "source": [
    "# # for t in topics:\n",
    "# #     cm = CoherenceModel(topics=t.sorted_terms, texts=texts, corpus=corpus, dictionary=t.dictionary, coherence='c_v',topn=TOP_WORDS)\n",
    "\n",
    "# cm = CoherenceModel(topics=[topic.sorted_terms for topic in topics], texts=texts, corpus=corpus, dictionary=dictionary, coherence='c_v',topn=TOP_WORDS)\n",
    "# # cm = CoherenceModel(topics=top_terms_by_topic, texts=texts, corpus=corpus, dictionary=dictionary, coherence='c_v',topn=TOP_WORDS)\n",
    "\n",
    "# total_coherence = cm.get_coherence()\n",
    "# coherence_per_topic = cm.get_coherence_per_topic()\n",
    "\n",
    "# for i, coherence in enumerate(coherence_per_topic):\n",
    "#     topics[i].coherence = coherence\n",
    "\n",
    "# print('Total Coherence: ', total_coherence)\n",
    "# print('Coherence by Topic: ', coherence_per_topic)    "
   ]
  },
  {
   "cell_type": "code",
   "execution_count": null,
   "metadata": {},
   "outputs": [],
   "source": [
    "from gensim.models import CoherenceModel\n",
    "from gensim.corpora import Dictionary\n",
    "\n",
    "dictionary = Dictionary(terms_by_topic)\n",
    "corpus = [dictionary.doc2bow(t) for t in terms_by_topic] # in BoW format.\n",
    "texts = [[dictionary[word_id] for word_id, freq in c] for c in corpus] # (list of list of str, optional) –  texts Tokenized in bow format\n",
    "\n",
    "# cm = CoherenceModel(topics=[topic.sorted_terms for topic in topics], texts=texts, corpus=corpus, dictionary=dictionary, coherence='c_v',topn=TOP_WORDS)\n",
    "cm = CoherenceModel(topics=[topic.terms for topic in topics], texts=texts, corpus=corpus, dictionary=dictionary, coherence='c_v',topn=TOP_WORDS)\n",
    "\n",
    "# cm = CoherenceModel(topics=top_terms_by_topic, texts=texts, corpus=corpus, dictionary=dictionary, coherence='c_v',topn=TOP_WORDS)\n",
    "\n",
    "total_coherence = cm.get_coherence()\n",
    "coherence_per_topic = cm.get_coherence_per_topic()\n",
    "\n",
    "for i, coherence in enumerate(coherence_per_topic):\n",
    "    topics[i].coherence = coherence\n",
    "\n",
    "print('Total Coherence: ', total_coherence)\n",
    "print('Coherence by Topic: ', coherence_per_topic)    "
   ]
  },
  {
   "cell_type": "code",
   "execution_count": null,
   "metadata": {},
   "outputs": [],
   "source": [
    "with open(OUTPUT_PATH + '/[minimal]topic-attention-results.txt', \"a\") as file:\n",
    "    print('Hyper-parameters: ', file=file) \n",
    "    print('Language Model: ' + MODEL + '\\t Distance Threshold: '+str(DISTANCE_THRESHOLD) + '\\t Resulting Topics: '+str(n_clusters) + '\\t TfIdf Threshold: '+str(MAX_DF) + '\\t Top Words: '+str(TOP_WORDS), file=file)   \n",
    "    print(\"\", file=file)\n",
    "    for topic in topics:\n",
    "        print('Topic '+str(topic.cluster), file=file)    \n",
    "        print('Documents length: '+str(len(topic.sentences)), file=file)\n",
    "        print('Terms length: '+str(len(topic.terms)), file=file)\n",
    "\n",
    "        print('Coherence: '+str(topic.coherence), file=file)\n",
    "        print('Top Words: '+str(topic.sorted_terms[-10:]), file=file)  \n",
    "        print('', file=file)\n",
    "\n",
    "    print('Total Coherence: '+str(total_coherence), file=file)  \n",
    "    print('Total Terms considered: '+str(len(topic.sorted_tfidfs)), file=file)\n",
    "    print('----------------------------------------------------------------------------', file=file)  "
   ]
  },
  {
   "cell_type": "markdown",
   "metadata": {},
   "source": [
    "# -----------------------------"
   ]
  },
  {
   "cell_type": "code",
   "execution_count": null,
   "metadata": {},
   "outputs": [],
   "source": [
    "### corrigir ordem dos termos. Ja esta corrigido no notebook oficial e no artigo\n",
    "print('Topics in ascending sort of coherence.')\n",
    "sorted_topic_indexes = np.argsort(coherence_per_topic)\n",
    "for i,j in enumerate(sorted_topic_indexes):    \n",
    "    print(i, topics[j].coherence, topics[j].sorted_terms[:10])"
   ]
  },
  {
   "cell_type": "code",
   "execution_count": null,
   "metadata": {},
   "outputs": [],
   "source": [
    "plt.clf()\n",
    "plt.figure(figsize=(2, 1.7))\n",
    "\n",
    "plt.scatter(x, y, color='w', s=1)\n",
    "\n",
    "for i, sentence in enumerate(sentences):\n",
    "    # plt.annotate(clustering_model.labels_[i], (x[i], y[i]), color='gray', fontsize=18)\n",
    "    plt.annotate(clustering_model.labels_[i], (x[i], y[i]), color=plt.cm.nipy_spectral(clustering_model.labels_[i] / 10.), fontsize=5)\n",
    "\n",
    "plt.axis(\"off\")\n",
    "plt.savefig(OUTPUT_PATH + str(n_clusters) + 'topics/clusters-mini-'+str(MODEL).replace('/','').replace('.','')+ '.png', bbox_inches='tight', transparent=True)"
   ]
  },
  {
   "cell_type": "code",
   "execution_count": null,
   "metadata": {},
   "outputs": [],
   "source": []
  },
  {
   "cell_type": "code",
   "execution_count": null,
   "metadata": {},
   "outputs": [],
   "source": []
  }
 ],
 "metadata": {
  "kernelspec": {
   "display_name": "Python 3 (ipykernel)",
   "language": "python",
   "name": "python3"
  },
  "language_info": {
   "codemirror_mode": {
    "name": "ipython",
    "version": 3
   },
   "file_extension": ".py",
   "mimetype": "text/x-python",
   "name": "python",
   "nbconvert_exporter": "python",
   "pygments_lexer": "ipython3",
   "version": "3.10.6"
  },
  "toc-showcode": true
 },
 "nbformat": 4,
 "nbformat_minor": 4
}
