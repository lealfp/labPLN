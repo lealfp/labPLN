{
 "cells": [
  {
   "cell_type": "code",
   "execution_count": 1,
   "metadata": {},
   "outputs": [],
   "source": [
    "import torch"
   ]
  },
  {
   "cell_type": "code",
   "execution_count": 4,
   "metadata": {},
   "outputs": [
    {
     "name": "stderr",
     "output_type": "stream",
     "text": [
      "/tmp/ipykernel_70331/1913433181.py:22: FutureWarning: You are using `torch.load` with `weights_only=False` (the current default value), which uses the default pickle module implicitly. It is possible to construct malicious pickle data which will execute arbitrary code during unpickling (See https://github.com/pytorch/pytorch/blob/main/SECURITY.md#untrusted-models for more details). In a future release, the default value for `weights_only` will be flipped to `True`. This limits the functions that could be executed during unpickling. Arbitrary objects will no longer be allowed to be loaded via this mode unless they are explicitly allowlisted by the user via `torch.serialization.add_safe_globals`. We recommend you start setting `weights_only=True` for any use case where you don't have full control of the loaded file. Please open an issue on GitHub for any issues related to this experimental feature.\n",
      "  md = torch.load(MODEL_PATH + '/pytorch_model.bin', map_location='cpu')\n"
     ]
    }
   ],
   "source": [
    "import os, pdb\n",
    "\n",
    "MODEL_PATH = 'bert-base-cased' \n",
    "\n",
    "TSV_PATH = 'output_from_1(test)/' + MODEL_PATH + '/'\n",
    "\n",
    "if not os.path.exists(TSV_PATH):\n",
    "    os.makedirs(TSV_PATH)\n",
    "\n",
    "MODEL_PATH =  '../../../models/' + MODEL_PATH \n",
    "\n",
    "md = torch.load(MODEL_PATH + '/pytorch_model.bin', map_location='cpu')\n",
    "for k in md:\n",
    "    # if necessário pois modelos finetunados tão vindo sem o prefixo bert.\n",
    "    if (k == 'bert.embeddings.word_embeddings.weight' or k == 'embeddings.word_embeddings.weight'):\n",
    "        embeds = md[k]\n",
    "\n",
    "vectors = []\n",
    "for l in range(len(embeds)):\n",
    "    vector = embeds[l]\n",
    "    tsv_row = ''\n",
    "    for m in range(len(vector)):\n",
    "        tsv_row += str(vector[m].tolist()) + '\\t'\n",
    "\n",
    "    vectors.append(tsv_row)\n",
    "\n",
    "with open(TSV_PATH + 'word_embeddings.tsv', \"w\") as f:\n",
    "    for e in vectors:\n",
    "        print (e, file=f)   "
   ]
  },
  {
   "cell_type": "code",
   "execution_count": 5,
   "metadata": {},
   "outputs": [],
   "source": [
    "labels = []\n",
    "with open(MODEL_PATH + '/vocab.txt', \"r\") as f:\n",
    "    labels = f.readlines()\n",
    "\n",
    "with open(TSV_PATH + 'labels.tsv', \"w\") as labels_file:\n",
    "    for label in labels:\n",
    "        print(label.replace(\"\\n\", \"\"), file=labels_file)"
   ]
  }
 ],
 "metadata": {
  "kernelspec": {
   "display_name": "Python 3 (ipykernel)",
   "language": "python",
   "name": "python3"
  },
  "language_info": {
   "codemirror_mode": {
    "name": "ipython",
    "version": 3
   },
   "file_extension": ".py",
   "mimetype": "text/x-python",
   "name": "python",
   "nbconvert_exporter": "python",
   "pygments_lexer": "ipython3",
   "version": "3.11.6"
  }
 },
 "nbformat": 4,
 "nbformat_minor": 4
}
