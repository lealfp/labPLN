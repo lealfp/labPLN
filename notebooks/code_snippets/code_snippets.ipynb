{
 "cells": [
  {
   "cell_type": "markdown",
   "metadata": {},
   "source": [
    "Run the following cell to confirm that the GPU is detected.\n"
   ]
  },
  {
   "cell_type": "code",
   "execution_count": 1,
   "metadata": {},
   "outputs": [
    {
     "ename": "SystemError",
     "evalue": "GPU device not found",
     "output_type": "error",
     "traceback": [
      "\u001b[0;31m---------------------------------------------------------------------------\u001b[0m",
      "\u001b[0;31mSystemError\u001b[0m                               Traceback (most recent call last)",
      "\u001b[0;32m<ipython-input-1-cd5bb073bb20>\u001b[0m in \u001b[0;36m<module>\u001b[0;34m\u001b[0m\n\u001b[1;32m      8\u001b[0m     \u001b[0mprint\u001b[0m\u001b[0;34m(\u001b[0m\u001b[0;34m'Found GPU at: {}'\u001b[0m\u001b[0;34m.\u001b[0m\u001b[0mformat\u001b[0m\u001b[0;34m(\u001b[0m\u001b[0mdevice_name\u001b[0m\u001b[0;34m)\u001b[0m\u001b[0;34m)\u001b[0m\u001b[0;34m\u001b[0m\u001b[0;34m\u001b[0m\u001b[0m\n\u001b[1;32m      9\u001b[0m \u001b[0;32melse\u001b[0m\u001b[0;34m:\u001b[0m\u001b[0;34m\u001b[0m\u001b[0;34m\u001b[0m\u001b[0m\n\u001b[0;32m---> 10\u001b[0;31m     \u001b[0;32mraise\u001b[0m \u001b[0mSystemError\u001b[0m\u001b[0;34m(\u001b[0m\u001b[0;34m'GPU device not found'\u001b[0m\u001b[0;34m)\u001b[0m\u001b[0;34m\u001b[0m\u001b[0;34m\u001b[0m\u001b[0m\n\u001b[0m",
      "\u001b[0;31mSystemError\u001b[0m: GPU device not found"
     ]
    }
   ],
   "source": [
    "import tensorflow as tf\n",
    "\n",
    "# Get the GPU device name.\n",
    "device_name = tf.test.gpu_device_name()\n",
    "\n",
    "# The device name should look like the following:\n",
    "if device_name == '/device:GPU:0':\n",
    "    print('Found GPU at: {}'.format(device_name))\n",
    "else:\n",
    "    raise SystemError('GPU device not found')"
   ]
  },
  {
   "cell_type": "code",
   "execution_count": 2,
   "metadata": {},
   "outputs": [
    {
     "name": "stdout",
     "output_type": "stream",
     "text": [
      "/bin/bash: nvidia-smi: command not found\n"
     ]
    }
   ],
   "source": [
    "! nvidia-smi"
   ]
  },
  {
   "cell_type": "code",
   "execution_count": 2,
   "metadata": {},
   "outputs": [
    {
     "name": "stdout",
     "output_type": "stream",
     "text": [
      "There are 1 GPU(s) available.\n",
      "We will use the GPU: GeForce GTX 1650\n"
     ]
    }
   ],
   "source": [
    "import torch\n",
    "\n",
    "# If there's a GPU available...\n",
    "if torch.cuda.is_available():    \n",
    "\n",
    "    # Tell PyTorch to use the GPU.    \n",
    "    device = torch.device(\"cuda\")\n",
    "\n",
    "    print('There are %d GPU(s) available.' % torch.cuda.device_count())\n",
    "\n",
    "    print('We will use the GPU:', torch.cuda.get_device_name(0))\n",
    "\n",
    "# If not...\n",
    "else:\n",
    "    print('No GPU available, using the CPU instead.')\n",
    "    device = torch.device(\"cpu\")"
   ]
  },
  {
   "cell_type": "code",
   "execution_count": 6,
   "metadata": {},
   "outputs": [
    {
     "name": "stdout",
     "output_type": "stream",
     "text": [
      "{'project': 'BERN', 'sourcedb': '', 'sourceid': 'e171534f4c4feac70cde566fbb5279a890207e7864a64e5a33d5eb19-Thread-871926', 'text': 'A 58-year-old African-American woman presents to the ER with episodic pressing/burning anterior chest pain that began two days earlier for the first time in her life. The pain started while she was walking, radiates to the back, and is accompanied by nausea, diaphoresis and mild dyspnea, but is not increased on inspiration. The latest episode of pain ended half an hour prior to her arrival. She is known to have hypertension and obesity. She denies smoking, diabetes, hypercholesterolemia, or a family history of heart disease. She currently takes no medications. Physical examination is normal. The EKG shows nonspecific changes.', 'denotations': [{'id': ['MESH:D002637', 'BERN:265734601'], 'span': {'begin': 61, 'end': 106}, 'obj': 'disease'}, {'id': ['MESH:D009325', 'BERN:263161801'], 'span': {'begin': 251, 'end': 257}, 'obj': 'disease'}, {'id': ['CUI-less'], 'span': {'begin': 259, 'end': 270}, 'obj': 'disease'}, {'id': ['MESH:D001049', 'BERN:256800901'], 'span': {'begin': 280, 'end': 287}, 'obj': 'disease'}, {'id': ['MESH:D010146', 'BERN:262326101'], 'span': {'begin': 348, 'end': 352}, 'obj': 'disease'}, {'id': ['MESH:D006973', 'BERN:106966601'], 'span': {'begin': 415, 'end': 427}, 'obj': 'disease'}, {'id': ['OMIM:601665', 'MESH:D009765', 'BERN:261400701'], 'span': {'begin': 432, 'end': 439}, 'obj': 'disease'}, {'id': ['BERN:258006601'], 'span': {'begin': 461, 'end': 469}, 'obj': 'disease'}, {'id': ['MESH:D006937', 'BERN:256192501'], 'span': {'begin': 471, 'end': 491}, 'obj': 'disease'}, {'id': ['MESH:D006331', 'BERN:257967001'], 'span': {'begin': 516, 'end': 529}, 'obj': 'disease'}, {'id': ['CUI-less'], 'span': {'begin': 603, 'end': 606}, 'obj': 'gene'}], 'timestamp': 'Fri Oct 09 18:45:26 +0000 2020', 'logits': {'disease': [[{'start': 61, 'end': 106, 'id': 'MESH:D002637\\tBERN:265734601'}, 0.9999882578849792], [{'start': 251, 'end': 257, 'id': 'MESH:D009325\\tBERN:263161801'}, 0.9999306201934814], [{'start': 259, 'end': 270, 'id': 'CUI-less'}, 0.9999997615814209], [{'start': 280, 'end': 287, 'id': 'MESH:D001049\\tBERN:256800901'}, 0.9999998807907104], [{'start': 348, 'end': 352, 'id': 'MESH:D010146\\tBERN:262326101'}, 0.9993453621864319], [{'start': 415, 'end': 427, 'id': 'MESH:D006973\\tBERN:106966601'}, 0.9999998807907104], [{'start': 432, 'end': 439, 'id': 'OMIM:601665\\tMESH:D009765\\tBERN:261400701'}, 0.9999998807907104], [{'start': 461, 'end': 469, 'id': 'BERN:258006601'}, 0.9999997615814209], [{'start': 471, 'end': 491, 'id': 'MESH:D006937\\tBERN:256192501'}, 0.9999998807907104], [{'start': 516, 'end': 529, 'id': 'MESH:D006331\\tBERN:257967001'}, 0.9999999403953552]], 'gene': [[{'start': 603, 'end': 606, 'id': 'CUI-less'}, 0.9999744892120361]], 'drug': [], 'species': [[{'start': 31, 'end': 36}, 0.9999998807907104]]}}\n"
     ]
    }
   ],
   "source": [
    "import requests\n",
    "\n",
    "def query_raw(text, url=\"https://bern.korea.ac.kr/plain\"):\n",
    "    return requests.post(url, data={'sample_text': text}).json()\n",
    "\n",
    "if __name__ == '__main__':\n",
    "    print(query_raw(\"A 58-year-old African-American woman presents to the ER with episodic pressing/burning anterior chest pain that began two days earlier for the first time in her life. The pain started while she was walking, radiates to the back, and is accompanied by nausea, diaphoresis and mild dyspnea, but is not increased on inspiration. The latest episode of pain ended half an hour prior to her arrival. She is known to have hypertension and obesity. She denies smoking, diabetes, hypercholesterolemia, or a family history of heart disease. She currently takes no medications. Physical examination is normal. The EKG shows nonspecific changes.\"))\n"
   ]
  },
  {
   "cell_type": "code",
   "execution_count": null,
   "metadata": {},
   "outputs": [],
   "source": []
  }
 ],
 "metadata": {
  "kernelspec": {
   "display_name": "Python 3 (ipykernel)",
   "language": "python",
   "name": "python3"
  },
  "language_info": {
   "codemirror_mode": {
    "name": "ipython",
    "version": 3
   },
   "file_extension": ".py",
   "mimetype": "text/x-python",
   "name": "python",
   "nbconvert_exporter": "python",
   "pygments_lexer": "ipython3",
   "version": "3.11.6"
  }
 },
 "nbformat": 4,
 "nbformat_minor": 4
}
