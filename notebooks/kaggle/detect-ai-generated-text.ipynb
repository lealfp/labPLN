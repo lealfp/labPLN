{
 "cells": [
  {
   "cell_type": "code",
   "execution_count": 1,
   "id": "4751c506",
   "metadata": {
    "execution": {
     "iopub.execute_input": "2024-01-04T14:19:58.915223Z",
     "iopub.status.busy": "2024-01-04T14:19:58.914830Z",
     "iopub.status.idle": "2024-01-04T14:19:58.925755Z",
     "shell.execute_reply": "2024-01-04T14:19:58.924840Z"
    },
    "papermill": {
     "duration": 0.022789,
     "end_time": "2024-01-04T14:19:58.927732",
     "exception": false,
     "start_time": "2024-01-04T14:19:58.904943",
     "status": "completed"
    },
    "tags": []
   },
   "outputs": [],
   "source": [
    "TRAIN_ESSAYS_PATH = '/kaggle/input/llm-detect-ai-generated-text/train_essays.csv'\n",
    "TEST_ESSAYS_PATH = '/kaggle/input/llm-detect-ai-generated-text/test_essays.csv'\n",
    "TRAIN_PROMPTS_PATH = '/kaggle/input/llm-detect-ai-generated-text/train_prompts.csv'\n",
    "\n",
    "MODEL_PATH = '/kaggle/input/bertbaseconstantlearningerrado'\n",
    "# MODEL_PATH = '/kaggle/input/d/faguim/modelo3'\n",
    "# MODEL_PATH = '/kaggle/input/bertlarge2eminus5-zip'\n",
    "# MODEL_PATH = '/kaggle/working/output_dir/checkpoint-7728'\n",
    "\n",
    "# MODEL_PATH = 'bert-base-cased'"
   ]
  },
  {
   "cell_type": "code",
   "execution_count": 2,
   "id": "585324d3",
   "metadata": {
    "execution": {
     "iopub.execute_input": "2024-01-04T14:19:58.944147Z",
     "iopub.status.busy": "2024-01-04T14:19:58.943895Z",
     "iopub.status.idle": "2024-01-04T14:19:58.947368Z",
     "shell.execute_reply": "2024-01-04T14:19:58.946638Z"
    },
    "papermill": {
     "duration": 0.013653,
     "end_time": "2024-01-04T14:19:58.949194",
     "exception": false,
     "start_time": "2024-01-04T14:19:58.935541",
     "status": "completed"
    },
    "tags": []
   },
   "outputs": [],
   "source": [
    "# !ls -lh /kaggle/input"
   ]
  },
  {
   "cell_type": "code",
   "execution_count": 3,
   "id": "19dabb9d",
   "metadata": {
    "execution": {
     "iopub.execute_input": "2024-01-04T14:19:58.965178Z",
     "iopub.status.busy": "2024-01-04T14:19:58.964937Z",
     "iopub.status.idle": "2024-01-04T14:20:09.515543Z",
     "shell.execute_reply": "2024-01-04T14:20:09.514631Z"
    },
    "papermill": {
     "duration": 10.561341,
     "end_time": "2024-01-04T14:20:09.518032",
     "exception": false,
     "start_time": "2024-01-04T14:19:58.956691",
     "status": "completed"
    },
    "tags": []
   },
   "outputs": [
    {
     "name": "stdout",
     "output_type": "stream",
     "text": [
      "                                                    text  label\n",
      "0      Cars. Cars have been around since they became ...      0\n",
      "1      Transportation is a large necessity in most co...      0\n",
      "2      \"America's love affair with it's vehicles seem...      0\n",
      "3      How often do you ride in a car? Do you drive a...      0\n",
      "4      Cars are a wonderful thing. They are perhaps o...      0\n",
      "...                                                  ...    ...\n",
      "44144  \\nSeeking advice from more than one person whe...      1\n",
      "44160  While the Facial Action Coding System technolo...      1\n",
      "44162  I strongly encourage you to participate in the...      1\n",
      "44163  Dear Principal Smith,\\n\\nI am writing to you r...      1\n",
      "44197  The Seagoing Cowboys program is an amazing opp...      1\n",
      "\n",
      "[44155 rows x 2 columns]\n"
     ]
    }
   ],
   "source": [
    "import pandas as pd\n",
    "\n",
    "# train_essays = []\n",
    "t_essays = pd.read_csv(TRAIN_ESSAYS_PATH)\n",
    "test_essays = pd.read_csv(TEST_ESSAYS_PATH)\n",
    "train_prompts = pd.read_csv(TRAIN_PROMPTS_PATH)\n",
    "\n",
    "ext_df1 = pd.read_csv('/kaggle/input/propertrain-dataset/train_drcat_01.csv')\n",
    "ext_df2 = pd.read_csv('/kaggle/input/propertrain-dataset/train_drcat_02.csv')\n",
    "ext_df3 = pd.read_csv('/kaggle/input/propertrain-dataset/train_drcat_03.csv')\n",
    "ext_df4 = pd.read_csv('/kaggle/input/propertrain-dataset/train_drcat_04.csv')\n",
    "\n",
    "t_essays['label'] = t_essays.generated.copy()\n",
    "\n",
    "ext_df = pd.concat([\n",
    "    t_essays,\n",
    "    ext_df1,\n",
    "    ext_df2,\n",
    "    ext_df3,\n",
    "    ext_df4,\n",
    "])\n",
    "\n",
    "ext_df.drop(['id', 'essay_id', 'source', 'prompt', 'prompt_id', 'fold', 'generated'], axis='columns', inplace=True)\n",
    "ext_df.drop_duplicates(keep='first', inplace=True)\n",
    "print(ext_df)\n",
    "\n",
    "train_essays = ext_df.copy().reset_index(drop=True)"
   ]
  },
  {
   "cell_type": "code",
   "execution_count": 4,
   "id": "d9c4adf2",
   "metadata": {
    "execution": {
     "iopub.execute_input": "2024-01-04T14:20:09.534810Z",
     "iopub.status.busy": "2024-01-04T14:20:09.534513Z",
     "iopub.status.idle": "2024-01-04T14:20:09.538847Z",
     "shell.execute_reply": "2024-01-04T14:20:09.538046Z"
    },
    "papermill": {
     "duration": 0.014844,
     "end_time": "2024-01-04T14:20:09.540757",
     "exception": false,
     "start_time": "2024-01-04T14:20:09.525913",
     "status": "completed"
    },
    "tags": []
   },
   "outputs": [],
   "source": [
    "# !pip install --upgrade -q wandb git+https://github.com/soumik12345/wandb-addons\n",
    "\n",
    "# import wandb  # Import wandb library for experiment tracking\n",
    "# import wandb_addons # Additional wandb utilities\n",
    "\n",
    "# try:\n",
    "#     from kaggle_secrets import UserSecretsClient  # Import UserSecretsClient\n",
    "#     user_secrets = UserSecretsClient()  # Create secnovo3 = test_dataset2.map(tokenize)rets client instance\n",
    "#     api_key = user_secrets.get_secret(\"WANDB\")  # Get API key from Kaggle secrets\n",
    "#     wandb.login(key=api_key)  # Login to wandb with the API key\n",
    "#     anonymous = None  # Set anonymous mode to None\n",
    "#     wandb.init() \n",
    "#     wandb.log()\n",
    "# except:\n",
    "#     anonymous = 'must'  # Set anonymous mode to 'must'\n",
    "#     wandb.login(anonymous=anonymous, relogin=True)  # Login to wandb anonymously and relogin if needed"
   ]
  },
  {
   "cell_type": "code",
   "execution_count": 5,
   "id": "53276c33",
   "metadata": {
    "execution": {
     "iopub.execute_input": "2024-01-04T14:20:09.557048Z",
     "iopub.status.busy": "2024-01-04T14:20:09.556777Z",
     "iopub.status.idle": "2024-01-04T14:20:12.704914Z",
     "shell.execute_reply": "2024-01-04T14:20:12.703944Z"
    },
    "papermill": {
     "duration": 3.158589,
     "end_time": "2024-01-04T14:20:12.706897",
     "exception": false,
     "start_time": "2024-01-04T14:20:09.548308",
     "status": "completed"
    },
    "tags": []
   },
   "outputs": [
    {
     "name": "stdout",
     "output_type": "stream",
     "text": [
      "Dispositivo: cuda\n"
     ]
    },
    {
     "data": {
      "text/plain": [
       "'Tesla P100-PCIE-16GB'"
      ]
     },
     "execution_count": 5,
     "metadata": {},
     "output_type": "execute_result"
    }
   ],
   "source": [
    "import torch\n",
    "device = torch.device(\"cuda\" if torch.cuda.is_available() else \"cpu\")\n",
    "n_gpu = torch.cuda.device_count()\n",
    "\n",
    "print('Dispositivo:', device)\n",
    "torch.cuda.get_device_name(device)"
   ]
  },
  {
   "cell_type": "code",
   "execution_count": 6,
   "id": "b269fb6a",
   "metadata": {
    "execution": {
     "iopub.execute_input": "2024-01-04T14:20:12.724224Z",
     "iopub.status.busy": "2024-01-04T14:20:12.723807Z",
     "iopub.status.idle": "2024-01-04T14:20:25.211197Z",
     "shell.execute_reply": "2024-01-04T14:20:25.210413Z"
    },
    "papermill": {
     "duration": 12.498764,
     "end_time": "2024-01-04T14:20:25.213645",
     "exception": false,
     "start_time": "2024-01-04T14:20:12.714881",
     "status": "completed"
    },
    "tags": []
   },
   "outputs": [
    {
     "name": "stderr",
     "output_type": "stream",
     "text": [
      "/opt/conda/lib/python3.10/site-packages/scipy/__init__.py:146: UserWarning: A NumPy version >=1.16.5 and <1.23.0 is required for this version of SciPy (detected version 1.24.3\n",
      "  warnings.warn(f\"A NumPy version >={np_minversion} and <{np_maxversion}\"\n"
     ]
    }
   ],
   "source": [
    "from datasets import load_dataset\n",
    "from transformers import (\n",
    "    TrainingArguments,\n",
    "    Trainer,\n",
    "    AutoTokenizer,\n",
    "    AutoModelForSequenceClassification,  \n",
    "    EvalPrediction,\n",
    ")"
   ]
  },
  {
   "cell_type": "code",
   "execution_count": 7,
   "id": "9782f7c5",
   "metadata": {
    "execution": {
     "iopub.execute_input": "2024-01-04T14:20:25.231679Z",
     "iopub.status.busy": "2024-01-04T14:20:25.231093Z",
     "iopub.status.idle": "2024-01-04T14:20:25.289309Z",
     "shell.execute_reply": "2024-01-04T14:20:25.288230Z"
    },
    "papermill": {
     "duration": 0.069806,
     "end_time": "2024-01-04T14:20:25.291742",
     "exception": false,
     "start_time": "2024-01-04T14:20:25.221936",
     "status": "completed"
    },
    "tags": []
   },
   "outputs": [],
   "source": [
    "tokenizer = AutoTokenizer.from_pretrained(MODEL_PATH, max_length=512, model_max_length=512)\n",
    "# tokenizer = AutoTokenizer.from_pretrained(MODEL_PATH, max_length=1024, model_max_length=1024)\n",
    "\n",
    "# tokenizer = AutoTokenizer.from_pretrained(MODEL_PATH, max_length=1024)\n",
    "# tokenizer = AutoTokenizer.from_pretrained(BERT_PATH, max_length=1024)\n",
    "\n",
    "def tokenize(examples):\n",
    "    return tokenizer(examples[\"text\"], truncation=True)"
   ]
  },
  {
   "cell_type": "code",
   "execution_count": 8,
   "id": "23aeb5b7",
   "metadata": {
    "execution": {
     "iopub.execute_input": "2024-01-04T14:20:25.312771Z",
     "iopub.status.busy": "2024-01-04T14:20:25.312406Z",
     "iopub.status.idle": "2024-01-04T14:20:58.011520Z",
     "shell.execute_reply": "2024-01-04T14:20:58.010715Z"
    },
    "papermill": {
     "duration": 32.712387,
     "end_time": "2024-01-04T14:20:58.013593",
     "exception": false,
     "start_time": "2024-01-04T14:20:25.301206",
     "status": "completed"
    },
    "tags": []
   },
   "outputs": [
    {
     "data": {
      "application/vnd.jupyter.widget-view+json": {
       "model_id": "04191a16831a42319cd97e25753cd0ec",
       "version_major": 2,
       "version_minor": 0
      },
      "text/plain": [
       "  0%|          | 0/45 [00:00<?, ?ba/s]"
      ]
     },
     "metadata": {},
     "output_type": "display_data"
    }
   ],
   "source": [
    "from datasets import Dataset \n",
    "\n",
    "train_dataset = Dataset.from_dict(train_essays)\n",
    "tokenized_train_dataset = train_dataset.map(tokenize, batched=True)\n",
    "\n",
    "train_split, eval_split, test_split = torch.utils.data.random_split(tokenized_train_dataset, [0.7,0.15, 0.15])"
   ]
  },
  {
   "cell_type": "code",
   "execution_count": 9,
   "id": "c3f50609",
   "metadata": {
    "execution": {
     "iopub.execute_input": "2024-01-04T14:20:58.032139Z",
     "iopub.status.busy": "2024-01-04T14:20:58.031390Z",
     "iopub.status.idle": "2024-01-04T14:20:58.035504Z",
     "shell.execute_reply": "2024-01-04T14:20:58.034649Z"
    },
    "papermill": {
     "duration": 0.015046,
     "end_time": "2024-01-04T14:20:58.037446",
     "exception": false,
     "start_time": "2024-01-04T14:20:58.022400",
     "status": "completed"
    },
    "tags": []
   },
   "outputs": [],
   "source": [
    "# len(train_split[100][\"input_ids\"])"
   ]
  },
  {
   "cell_type": "code",
   "execution_count": 10,
   "id": "7a91ff2c",
   "metadata": {
    "execution": {
     "iopub.execute_input": "2024-01-04T14:20:58.054751Z",
     "iopub.status.busy": "2024-01-04T14:20:58.054408Z",
     "iopub.status.idle": "2024-01-04T14:21:09.943798Z",
     "shell.execute_reply": "2024-01-04T14:21:09.942985Z"
    },
    "papermill": {
     "duration": 11.900337,
     "end_time": "2024-01-04T14:21:09.945912",
     "exception": false,
     "start_time": "2024-01-04T14:20:58.045575",
     "status": "completed"
    },
    "tags": []
   },
   "outputs": [
    {
     "name": "stderr",
     "output_type": "stream",
     "text": [
      "Using auto half precision backend\n"
     ]
    }
   ],
   "source": [
    "model = AutoModelForSequenceClassification.from_pretrained(\n",
    "        MODEL_PATH,\n",
    "#         BERT_PATH,\n",
    "        num_labels=2,\n",
    "#         max_position_embeddings=512,\n",
    "#     ignore_mismatched_sizes=True\n",
    "#         use_safetensors=True,\n",
    "    )\n",
    "\n",
    "training_args = TrainingArguments(\n",
    "        output_dir=\"output_dir\",\n",
    "#         eval_delay=0,\n",
    "        evaluation_strategy=\"epoch\",\n",
    "        learning_rate=2e-5,\n",
    "        weight_decay=3e-6,\n",
    "        adam_beta1=0.9,\n",
    "        adam_beta2=0.999,\n",
    "        adam_epsilon=1e-8,\n",
    "#     num_cycles=3,\n",
    "        num_train_epochs=5,\n",
    "        lr_scheduler_type=\"constant\",\n",
    "        warmup_steps=579,\n",
    "        log_level=\"info\",\n",
    "        save_strategy=\"epoch\",\n",
    "        save_total_limit = 5,\n",
    "#         load_best_model_at_end = True,\n",
    "#         seed=43,\n",
    "        fp16=True,\n",
    "#         dataloader_drop_last=True,\n",
    "        per_device_train_batch_size=16,\n",
    "        per_device_eval_batch_size=16,\n",
    "\n",
    "    )\n",
    "\n",
    "trainer = Trainer(\n",
    "        model,\n",
    "        training_args,\n",
    "        tokenizer=tokenizer,\n",
    "#         data_collator=collator,cpu! (when checking argument for argument index in method wrapper_CUDA__index_select)\n",
    "        train_dataset=train_split,\n",
    "        eval_dataset=eval_split\n",
    "    )"
   ]
  },
  {
   "cell_type": "code",
   "execution_count": 11,
   "id": "59c46696",
   "metadata": {
    "execution": {
     "iopub.execute_input": "2024-01-04T14:21:09.964118Z",
     "iopub.status.busy": "2024-01-04T14:21:09.963419Z",
     "iopub.status.idle": "2024-01-04T14:21:09.967241Z",
     "shell.execute_reply": "2024-01-04T14:21:09.966355Z"
    },
    "papermill": {
     "duration": 0.014847,
     "end_time": "2024-01-04T14:21:09.969142",
     "exception": false,
     "start_time": "2024-01-04T14:21:09.954295",
     "status": "completed"
    },
    "tags": []
   },
   "outputs": [],
   "source": [
    "# trainer.train()\n",
    "# trainer.save_model()"
   ]
  },
  {
   "cell_type": "markdown",
   "id": "0e44f8d6",
   "metadata": {
    "papermill": {
     "duration": 0.007845,
     "end_time": "2024-01-04T14:21:09.985730",
     "exception": false,
     "start_time": "2024-01-04T14:21:09.977885",
     "status": "completed"
    },
    "tags": []
   },
   "source": [
    "------------------------------------------------\n",
    "# Teste"
   ]
  },
  {
   "cell_type": "code",
   "execution_count": 12,
   "id": "cde14e1e",
   "metadata": {
    "execution": {
     "iopub.execute_input": "2024-01-04T14:21:10.003131Z",
     "iopub.status.busy": "2024-01-04T14:21:10.002841Z",
     "iopub.status.idle": "2024-01-04T14:21:10.006456Z",
     "shell.execute_reply": "2024-01-04T14:21:10.005623Z"
    },
    "papermill": {
     "duration": 0.014522,
     "end_time": "2024-01-04T14:21:10.008360",
     "exception": false,
     "start_time": "2024-01-04T14:21:09.993838",
     "status": "completed"
    },
    "tags": []
   },
   "outputs": [],
   "source": [
    "# result = trainer.evaluate(test_split)\n",
    "# result"
   ]
  },
  {
   "cell_type": "code",
   "execution_count": 13,
   "id": "1d9df518",
   "metadata": {
    "execution": {
     "iopub.execute_input": "2024-01-04T14:21:10.025589Z",
     "iopub.status.busy": "2024-01-04T14:21:10.025107Z",
     "iopub.status.idle": "2024-01-04T14:21:10.028937Z",
     "shell.execute_reply": "2024-01-04T14:21:10.028094Z"
    },
    "papermill": {
     "duration": 0.014818,
     "end_time": "2024-01-04T14:21:10.031153",
     "exception": false,
     "start_time": "2024-01-04T14:21:10.016335",
     "status": "completed"
    },
    "tags": []
   },
   "outputs": [],
   "source": [
    "# os.environ[\"WANDB_DISABLED\"] = \"true\""
   ]
  },
  {
   "cell_type": "code",
   "execution_count": 14,
   "id": "5776cad1",
   "metadata": {
    "execution": {
     "iopub.execute_input": "2024-01-04T14:21:10.049940Z",
     "iopub.status.busy": "2024-01-04T14:21:10.049476Z",
     "iopub.status.idle": "2024-01-04T14:21:10.053166Z",
     "shell.execute_reply": "2024-01-04T14:21:10.052330Z"
    },
    "papermill": {
     "duration": 0.014609,
     "end_time": "2024-01-04T14:21:10.055171",
     "exception": false,
     "start_time": "2024-01-04T14:21:10.040562",
     "status": "completed"
    },
    "tags": []
   },
   "outputs": [],
   "source": [
    "# result"
   ]
  },
  {
   "cell_type": "code",
   "execution_count": 15,
   "id": "21dec013",
   "metadata": {
    "execution": {
     "iopub.execute_input": "2024-01-04T14:21:10.072674Z",
     "iopub.status.busy": "2024-01-04T14:21:10.072367Z",
     "iopub.status.idle": "2024-01-04T14:21:10.078491Z",
     "shell.execute_reply": "2024-01-04T14:21:10.077642Z"
    },
    "papermill": {
     "duration": 0.016901,
     "end_time": "2024-01-04T14:21:10.080305",
     "exception": false,
     "start_time": "2024-01-04T14:21:10.063404",
     "status": "completed"
    },
    "tags": []
   },
   "outputs": [],
   "source": [
    "# # # # 1: 'eval_loss': 0.018171824514865875,\n",
    "# # # # 2:'eval_loss': 0.019168734550476074\n",
    "# # # # 3: 'eval_loss': 0.016240527853369713'\n",
    "        \n",
    "        \n",
    "        \n",
    "# # # #         ---------------\n",
    "# # # #     Modelo 4    \n",
    "# # # # Epoch \tTraining Loss \tValidation Loss --> Test\n",
    "# # # # 1 \t0.038200 \t0.133390\n",
    "# # # # 2 \t0.029200 \t0.043577\n",
    "# # # # 3 \t0.013600 \t0.039176 ---> 0.037069786339998245\n",
    "\n",
    "# # # 10EPOCHS\n",
    "# # # 1 \t0.040600 \t0.033435\n",
    "# # # 2 \t0.016000 \t0.035558\n",
    "# # # 3 \t0.010200 \t0.031337\n",
    "# # # 4 \t0.012400 \t0.043263\n",
    "# # # 5 \t0.006100 \t0.041467\n",
    "# # # 6 \t0.004400 \t0.039544\n",
    "# # # 7 \t0.003000 \t0.048936\n",
    "# # # 8 \t0.000000 \t0.045338\n",
    "# # # 9 \t0.000000 \t0.046916\n",
    "# # # 10 \t0.000000 \t0.047661\n",
    "\n",
    "# # # 7EPOCHS\n",
    "# # # 1 \t0.032500 \t0.044884\n",
    "# # # 2 \t0.016900 \t0.019400\n",
    "# # # 3 \t0.005200 \t0.038988  0.015834501013159752,\n",
    "# # # 4 \t0.004300 \t0.020831  0.00468977726995945\n",
    "# # # 5 \t0.003600 \t0.045806  0.017297109588980675\n",
    "# # # 6 \t0.000100 \t0.037682  0.013847769238054752\n",
    "# # # 7 \t0.000000 \t0.031262  0.013523745350539684\n",
    "\n",
    "\n",
    "# # # 5epochslarge, lr 3e-5\n",
    "# # # 5 0.6 --> 0.6 --> 0.6283125877380371\n",
    "\n",
    "\n",
    "# # # 2epochslarge, lr 2e-5\n",
    "# # # 1 \t0.032600 \t0.015285   0.00930606760084629,\n",
    "# # # 2 \t0.007400 \t0.011398   0.018849071115255356\n",
    "\n",
    "# # # ---------------------------\n",
    "# # # 1epochslarge, lr 3e-5\n",
    "# # # x --> x --> test_loss': 0.15940824151039124,\n",
    "\n",
    "\n",
    "        \n",
    "    \n",
    "# # bert-base learning_rate=3e-5, warmup steps desconfigurado\n",
    "# # 1 \t0.035900 \t0.020002   0.011627799831330776,\n",
    "# # 2 \t0.014300 \t0.026277   0.046091921627521515\n",
    "# # 3 \t0.004200 \t0.021399   0.026681404560804367\n",
    "\n",
    "\n",
    "\n",
    "# # bert-base learning_rate=3e-5, warmup steps 10%\n",
    "# # 0.01594146341085434\n",
    "# # 0.023494239896535873\n",
    "# # 0.0223104078322649\n",
    "\n",
    "\n",
    "\n",
    "# # bert-base learning_rate=2e-5, warmup steps 10%\n",
    "\n",
    "# 1 \t0.028800 \t0.011249   0.006494616623967886\n",
    "# 2 \t0.015200 \t0.013231   0.004830355755984783\n",
    "# 3 \t0.006000 \t0.017011   0.02094988152384758\n",
    "\n",
    "\n",
    "# bert-base 5e-5  warmup steps 10%\n",
    "# 1 \t0.038900 \t0.028577  0.012289708480238914\n",
    "# 2 \t0.017700 \t0.024407  0.01493032556027174\n",
    "# 3 \t0.007900 \t0.045755  0.030657973140478134\n",
    "# 4 \t0.005000 \t0.023188\n",
    "# 5 \t0.003300 \t0.023409   0.023820417001843452\n",
    "\n",
    "\n",
    "\n",
    "# bert-large 2e-5  warmup steps 10%\n",
    "\n",
    "# 1 \t0.057900 \t0.050056\n",
    "# 2 \t0.031500 \t0.028740\n",
    "# 3 \t0.017000 \t0.016659\n",
    "# 4 \t0.015300 \t0.019737\n",
    "# 5 \t0.011300 \t0.021252  0.011726350523531437,\n",
    "\n",
    "\n",
    "# bert-base constant-learning   5 epochs warmup_steps=579 (deveria ter 10%, taerrado)\n",
    "# 1 \t0.036700 \t0.030619    0.02572002448141575\n",
    "# 2 \t0.022700 \t0.014526    0.0069252680987119675\n",
    "# 3 \t0.020000 \t0.017621    0.01026342622935772\n",
    "# 4 \t0.005300 \t0.024898    0.009119929745793343\n",
    "# 5 \t0.005100 \t0.022127 --> 0.01931276172399521"
   ]
  },
  {
   "cell_type": "markdown",
   "id": "5bff09b4",
   "metadata": {
    "papermill": {
     "duration": 0.008339,
     "end_time": "2024-01-04T14:21:10.096610",
     "exception": false,
     "start_time": "2024-01-04T14:21:10.088271",
     "status": "completed"
    },
    "tags": []
   },
   "source": [
    "----------------------------------------------\n",
    "# Submission"
   ]
  },
  {
   "cell_type": "code",
   "execution_count": 16,
   "id": "1c0c4e03",
   "metadata": {
    "execution": {
     "iopub.execute_input": "2024-01-04T14:21:10.113823Z",
     "iopub.status.busy": "2024-01-04T14:21:10.113529Z",
     "iopub.status.idle": "2024-01-04T14:21:13.684442Z",
     "shell.execute_reply": "2024-01-04T14:21:13.683425Z"
    },
    "papermill": {
     "duration": 3.581984,
     "end_time": "2024-01-04T14:21:13.686588",
     "exception": false,
     "start_time": "2024-01-04T14:21:10.104604",
     "status": "completed"
    },
    "tags": []
   },
   "outputs": [
    {
     "data": {
      "application/vnd.jupyter.widget-view+json": {
       "model_id": "a8824a02beec49b78e06bb15199699f4",
       "version_major": 2,
       "version_minor": 0
      },
      "text/plain": [
       "  0%|          | 0/3 [00:00<?, ?ex/s]"
      ]
     },
     "metadata": {},
     "output_type": "display_data"
    },
    {
     "name": "stderr",
     "output_type": "stream",
     "text": [
      "Disabling tokenizer parallelism, we're using DataLoader multithreading already\n"
     ]
    },
    {
     "data": {
      "text/plain": [
       "[{'label': 'LABEL_0', 'score': 0.9928627610206604},\n",
       " {'label': 'LABEL_0', 'score': 0.9837666749954224},\n",
       " {'label': 'LABEL_0', 'score': 0.9897630214691162}]"
      ]
     },
     "execution_count": 16,
     "metadata": {},
     "output_type": "execute_result"
    }
   ],
   "source": [
    "from datasets import Dataset \n",
    "from transformers import pipeline\n",
    "\n",
    "test_dataset = Dataset.from_dict(test_essays)\n",
    "test_dataset.map(tokenize)\n",
    "\n",
    "# classifier = pipeline(\"sentiment-analysis\", model=model, tokenizer=tokenizer, device=0)\n",
    "classifier = pipeline(\"sentiment-analysis\", model=model, tokenizer=tokenizer, device=0, batch_size=16)\n",
    "\n",
    "resultado = classifier(test_dataset[:]['text'], padding=True, truncation=True, max_length=512)\n",
    "\n",
    "# resultado = classifier(test_dataset[:]['text'], padding=True, truncation=True, max_length=1024)\n",
    "resultado"
   ]
  },
  {
   "cell_type": "code",
   "execution_count": 17,
   "id": "7938423e",
   "metadata": {
    "execution": {
     "iopub.execute_input": "2024-01-04T14:21:13.705291Z",
     "iopub.status.busy": "2024-01-04T14:21:13.704797Z",
     "iopub.status.idle": "2024-01-04T14:21:13.711041Z",
     "shell.execute_reply": "2024-01-04T14:21:13.710213Z"
    },
    "papermill": {
     "duration": 0.017446,
     "end_time": "2024-01-04T14:21:13.712838",
     "exception": false,
     "start_time": "2024-01-04T14:21:13.695392",
     "status": "completed"
    },
    "tags": []
   },
   "outputs": [],
   "source": [
    "import csv \n",
    "\n",
    "with open('submission.csv', \"w\") as file:\n",
    "    i = 0\n",
    "    writer = csv.writer(file, dialect=\"excel\")\n",
    "    writer.writerow([\"id\",\"generated\"])\n",
    "\n",
    "    for p in resultado:        \n",
    "        writer.writerow([test_dataset[i]['id'], p['score']])\n",
    "        i = i+1"
   ]
  },
  {
   "cell_type": "code",
   "execution_count": 18,
   "id": "6cf7c7a5",
   "metadata": {
    "execution": {
     "iopub.execute_input": "2024-01-04T14:21:13.730756Z",
     "iopub.status.busy": "2024-01-04T14:21:13.730441Z",
     "iopub.status.idle": "2024-01-04T14:21:13.734315Z",
     "shell.execute_reply": "2024-01-04T14:21:13.733328Z"
    },
    "papermill": {
     "duration": 0.01501,
     "end_time": "2024-01-04T14:21:13.736178",
     "exception": false,
     "start_time": "2024-01-04T14:21:13.721168",
     "status": "completed"
    },
    "tags": []
   },
   "outputs": [],
   "source": [
    "# !zip -r bertbaseconstantlearningerrado.zip /kaggle/working/output_dir/checkpoint-3864\n",
    "\n",
    "# from IPython.display import FileLink\n",
    "# FileLink(r'bertbaseconstantlearningerrado.zip')"
   ]
  },
  {
   "cell_type": "code",
   "execution_count": 19,
   "id": "930f719d",
   "metadata": {
    "execution": {
     "iopub.execute_input": "2024-01-04T14:21:13.753734Z",
     "iopub.status.busy": "2024-01-04T14:21:13.753409Z",
     "iopub.status.idle": "2024-01-04T14:21:13.757198Z",
     "shell.execute_reply": "2024-01-04T14:21:13.756331Z"
    },
    "papermill": {
     "duration": 0.014562,
     "end_time": "2024-01-04T14:21:13.758990",
     "exception": false,
     "start_time": "2024-01-04T14:21:13.744428",
     "status": "completed"
    },
    "tags": []
   },
   "outputs": [],
   "source": [
    "# !rm -r output_dir/"
   ]
  },
  {
   "cell_type": "code",
   "execution_count": 20,
   "id": "fdac74cd",
   "metadata": {
    "execution": {
     "iopub.execute_input": "2024-01-04T14:21:13.776836Z",
     "iopub.status.busy": "2024-01-04T14:21:13.776312Z",
     "iopub.status.idle": "2024-01-04T14:21:13.779931Z",
     "shell.execute_reply": "2024-01-04T14:21:13.779094Z"
    },
    "papermill": {
     "duration": 0.014516,
     "end_time": "2024-01-04T14:21:13.781886",
     "exception": false,
     "start_time": "2024-01-04T14:21:13.767370",
     "status": "completed"
    },
    "tags": []
   },
   "outputs": [],
   "source": [
    "# # !rm -r wandb/\n",
    "# !rm -r /kaggle/input/d/faguim/modelo3"
   ]
  },
  {
   "cell_type": "code",
   "execution_count": 21,
   "id": "8ea18a9d",
   "metadata": {
    "execution": {
     "iopub.execute_input": "2024-01-04T14:21:13.799997Z",
     "iopub.status.busy": "2024-01-04T14:21:13.799747Z",
     "iopub.status.idle": "2024-01-04T14:21:13.803263Z",
     "shell.execute_reply": "2024-01-04T14:21:13.802503Z"
    },
    "papermill": {
     "duration": 0.014503,
     "end_time": "2024-01-04T14:21:13.805021",
     "exception": false,
     "start_time": "2024-01-04T14:21:13.790518",
     "status": "completed"
    },
    "tags": []
   },
   "outputs": [],
   "source": [
    "# !ls output_dir/ -lh"
   ]
  },
  {
   "cell_type": "code",
   "execution_count": 22,
   "id": "8e7f9cfe",
   "metadata": {
    "execution": {
     "iopub.execute_input": "2024-01-04T14:21:13.822888Z",
     "iopub.status.busy": "2024-01-04T14:21:13.822627Z",
     "iopub.status.idle": "2024-01-04T14:21:13.826130Z",
     "shell.execute_reply": "2024-01-04T14:21:13.825306Z"
    },
    "papermill": {
     "duration": 0.014724,
     "end_time": "2024-01-04T14:21:13.828200",
     "exception": false,
     "start_time": "2024-01-04T14:21:13.813476",
     "status": "completed"
    },
    "tags": []
   },
   "outputs": [],
   "source": [
    "# import os\n",
    "# os.remove(\"state.db\")"
   ]
  },
  {
   "cell_type": "code",
   "execution_count": null,
   "id": "e2194bab",
   "metadata": {
    "papermill": {
     "duration": 0.008138,
     "end_time": "2024-01-04T14:21:13.844916",
     "exception": false,
     "start_time": "2024-01-04T14:21:13.836778",
     "status": "completed"
    },
    "tags": []
   },
   "outputs": [],
   "source": []
  },
  {
   "cell_type": "code",
   "execution_count": null,
   "id": "866136da",
   "metadata": {
    "papermill": {
     "duration": 0.008194,
     "end_time": "2024-01-04T14:21:13.861690",
     "exception": false,
     "start_time": "2024-01-04T14:21:13.853496",
     "status": "completed"
    },
    "tags": []
   },
   "outputs": [],
   "source": []
  },
  {
   "cell_type": "code",
   "execution_count": null,
   "id": "b350bb7e",
   "metadata": {
    "papermill": {
     "duration": 0.008258,
     "end_time": "2024-01-04T14:21:13.878240",
     "exception": false,
     "start_time": "2024-01-04T14:21:13.869982",
     "status": "completed"
    },
    "tags": []
   },
   "outputs": [],
   "source": []
  },
  {
   "cell_type": "code",
   "execution_count": null,
   "id": "45f60446",
   "metadata": {
    "papermill": {
     "duration": 0.008105,
     "end_time": "2024-01-04T14:21:13.894779",
     "exception": false,
     "start_time": "2024-01-04T14:21:13.886674",
     "status": "completed"
    },
    "tags": []
   },
   "outputs": [],
   "source": []
  }
 ],
 "metadata": {
  "kaggle": {
   "accelerator": "gpu",
   "dataSources": [
    {
     "databundleVersionId": 6888007,
     "sourceId": 61542,
     "sourceType": "competition"
    },
    {
     "datasetId": 4017499,
     "sourceId": 6989903,
     "sourceType": "datasetVersion"
    },
    {
     "datasetId": 4155013,
     "sourceId": 7186967,
     "sourceType": "datasetVersion"
    },
    {
     "datasetId": 4166897,
     "sourceId": 7203067,
     "sourceType": "datasetVersion"
    },
    {
     "datasetId": 4193136,
     "sourceId": 7239862,
     "sourceType": "datasetVersion"
    },
    {
     "datasetId": 4199681,
     "sourceId": 7248855,
     "sourceType": "datasetVersion"
    },
    {
     "datasetId": 4225708,
     "sourceId": 7286957,
     "sourceType": "datasetVersion"
    },
    {
     "datasetId": 4260189,
     "sourceId": 7337964,
     "sourceType": "datasetVersion"
    }
   ],
   "dockerImageVersionId": 30579,
   "isGpuEnabled": true,
   "isInternetEnabled": false,
   "language": "python",
   "sourceType": "notebook"
  },
  "kernelspec": {
   "display_name": "Python 3 (ipykernel)",
   "language": "python",
   "name": "python3"
  },
  "language_info": {
   "codemirror_mode": {
    "name": "ipython",
    "version": 3
   },
   "file_extension": ".py",
   "mimetype": "text/x-python",
   "name": "python",
   "nbconvert_exporter": "python",
   "pygments_lexer": "ipython3",
   "version": "3.11.6"
  },
  "papermill": {
   "default_parameters": {},
   "duration": 81.431498,
   "end_time": "2024-01-04T14:21:17.065281",
   "environment_variables": {},
   "exception": null,
   "input_path": "__notebook__.ipynb",
   "output_path": "__notebook__.ipynb",
   "parameters": {},
   "start_time": "2024-01-04T14:19:55.633783",
   "version": "2.4.0"
  },
  "widgets": {
   "application/vnd.jupyter.widget-state+json": {
    "state": {
     "0360c536c1794012bff940e0e3139d14": {
      "model_module": "@jupyter-widgets/controls",
      "model_module_version": "1.5.0",
      "model_name": "HTMLModel",
      "state": {
       "_dom_classes": [],
       "_model_module": "@jupyter-widgets/controls",
       "_model_module_version": "1.5.0",
       "_model_name": "HTMLModel",
       "_view_count": null,
       "_view_module": "@jupyter-widgets/controls",
       "_view_module_version": "1.5.0",
       "_view_name": "HTMLView",
       "description": "",
       "description_tooltip": null,
       "layout": "IPY_MODEL_1454d1a23171402fa0f6e0f5610d08e9",
       "placeholder": "​",
       "style": "IPY_MODEL_17ad2794356247918ebe1e8176338e0f",
       "value": "100%"
      }
     },
     "04191a16831a42319cd97e25753cd0ec": {
      "model_module": "@jupyter-widgets/controls",
      "model_module_version": "1.5.0",
      "model_name": "HBoxModel",
      "state": {
       "_dom_classes": [],
       "_model_module": "@jupyter-widgets/controls",
       "_model_module_version": "1.5.0",
       "_model_name": "HBoxModel",
       "_view_count": null,
       "_view_module": "@jupyter-widgets/controls",
       "_view_module_version": "1.5.0",
       "_view_name": "HBoxView",
       "box_style": "",
       "children": [
        "IPY_MODEL_96025a8798d346a4885ed7fc73576714",
        "IPY_MODEL_f7f77dbbad624e93b64ca803d76304d7",
        "IPY_MODEL_424a85b07eec4f5e81f729d2d2daec0a"
       ],
       "layout": "IPY_MODEL_59ccc345d417449f93cff87e251aff12"
      }
     },
     "0b1a597bad9f42d3866fac71d17693d9": {
      "model_module": "@jupyter-widgets/controls",
      "model_module_version": "1.5.0",
      "model_name": "DescriptionStyleModel",
      "state": {
       "_model_module": "@jupyter-widgets/controls",
       "_model_module_version": "1.5.0",
       "_model_name": "DescriptionStyleModel",
       "_view_count": null,
       "_view_module": "@jupyter-widgets/base",
       "_view_module_version": "1.2.0",
       "_view_name": "StyleView",
       "description_width": ""
      }
     },
     "1454d1a23171402fa0f6e0f5610d08e9": {
      "model_module": "@jupyter-widgets/base",
      "model_module_version": "1.2.0",
      "model_name": "LayoutModel",
      "state": {
       "_model_module": "@jupyter-widgets/base",
       "_model_module_version": "1.2.0",
       "_model_name": "LayoutModel",
       "_view_count": null,
       "_view_module": "@jupyter-widgets/base",
       "_view_module_version": "1.2.0",
       "_view_name": "LayoutView",
       "align_content": null,
       "align_items": null,
       "align_self": null,
       "border": null,
       "bottom": null,
       "display": null,
       "flex": null,
       "flex_flow": null,
       "grid_area": null,
       "grid_auto_columns": null,
       "grid_auto_flow": null,
       "grid_auto_rows": null,
       "grid_column": null,
       "grid_gap": null,
       "grid_row": null,
       "grid_template_areas": null,
       "grid_template_columns": null,
       "grid_template_rows": null,
       "height": null,
       "justify_content": null,
       "justify_items": null,
       "left": null,
       "margin": null,
       "max_height": null,
       "max_width": null,
       "min_height": null,
       "min_width": null,
       "object_fit": null,
       "object_position": null,
       "order": null,
       "overflow": null,
       "overflow_x": null,
       "overflow_y": null,
       "padding": null,
       "right": null,
       "top": null,
       "visibility": null,
       "width": null
      }
     },
     "147b93fdec4540d5ae45b406bbaa1736": {
      "model_module": "@jupyter-widgets/controls",
      "model_module_version": "1.5.0",
      "model_name": "HTMLModel",
      "state": {
       "_dom_classes": [],
       "_model_module": "@jupyter-widgets/controls",
       "_model_module_version": "1.5.0",
       "_model_name": "HTMLModel",
       "_view_count": null,
       "_view_module": "@jupyter-widgets/controls",
       "_view_module_version": "1.5.0",
       "_view_name": "HTMLView",
       "description": "",
       "description_tooltip": null,
       "layout": "IPY_MODEL_ff1220ee3dc346509d07dbe7d50d2fa8",
       "placeholder": "​",
       "style": "IPY_MODEL_64cf118fdde643b0aef215bb8e73558c",
       "value": " 3/3 [00:00&lt;00:00, 196.20ex/s]"
      }
     },
     "17ad2794356247918ebe1e8176338e0f": {
      "model_module": "@jupyter-widgets/controls",
      "model_module_version": "1.5.0",
      "model_name": "DescriptionStyleModel",
      "state": {
       "_model_module": "@jupyter-widgets/controls",
       "_model_module_version": "1.5.0",
       "_model_name": "DescriptionStyleModel",
       "_view_count": null,
       "_view_module": "@jupyter-widgets/base",
       "_view_module_version": "1.2.0",
       "_view_name": "StyleView",
       "description_width": ""
      }
     },
     "2d61b6a4cb4e4c26b94edf5be6b63c6c": {
      "model_module": "@jupyter-widgets/controls",
      "model_module_version": "1.5.0",
      "model_name": "DescriptionStyleModel",
      "state": {
       "_model_module": "@jupyter-widgets/controls",
       "_model_module_version": "1.5.0",
       "_model_name": "DescriptionStyleModel",
       "_view_count": null,
       "_view_module": "@jupyter-widgets/base",
       "_view_module_version": "1.2.0",
       "_view_name": "StyleView",
       "description_width": ""
      }
     },
     "424a85b07eec4f5e81f729d2d2daec0a": {
      "model_module": "@jupyter-widgets/controls",
      "model_module_version": "1.5.0",
      "model_name": "HTMLModel",
      "state": {
       "_dom_classes": [],
       "_model_module": "@jupyter-widgets/controls",
       "_model_module_version": "1.5.0",
       "_model_name": "HTMLModel",
       "_view_count": null,
       "_view_module": "@jupyter-widgets/controls",
       "_view_module_version": "1.5.0",
       "_view_name": "HTMLView",
       "description": "",
       "description_tooltip": null,
       "layout": "IPY_MODEL_f4c91a15ea034f0ba6492d383d6de069",
       "placeholder": "​",
       "style": "IPY_MODEL_2d61b6a4cb4e4c26b94edf5be6b63c6c",
       "value": " 45/45 [00:32&lt;00:00,  2.04ba/s]"
      }
     },
     "4c2a6657951a4678946d8387dbbbaeef": {
      "model_module": "@jupyter-widgets/base",
      "model_module_version": "1.2.0",
      "model_name": "LayoutModel",
      "state": {
       "_model_module": "@jupyter-widgets/base",
       "_model_module_version": "1.2.0",
       "_model_name": "LayoutModel",
       "_view_count": null,
       "_view_module": "@jupyter-widgets/base",
       "_view_module_version": "1.2.0",
       "_view_name": "LayoutView",
       "align_content": null,
       "align_items": null,
       "align_self": null,
       "border": null,
       "bottom": null,
       "display": null,
       "flex": null,
       "flex_flow": null,
       "grid_area": null,
       "grid_auto_columns": null,
       "grid_auto_flow": null,
       "grid_auto_rows": null,
       "grid_column": null,
       "grid_gap": null,
       "grid_row": null,
       "grid_template_areas": null,
       "grid_template_columns": null,
       "grid_template_rows": null,
       "height": null,
       "justify_content": null,
       "justify_items": null,
       "left": null,
       "margin": null,
       "max_height": null,
       "max_width": null,
       "min_height": null,
       "min_width": null,
       "object_fit": null,
       "object_position": null,
       "order": null,
       "overflow": null,
       "overflow_x": null,
       "overflow_y": null,
       "padding": null,
       "right": null,
       "top": null,
       "visibility": null,
       "width": null
      }
     },
     "59ccc345d417449f93cff87e251aff12": {
      "model_module": "@jupyter-widgets/base",
      "model_module_version": "1.2.0",
      "model_name": "LayoutModel",
      "state": {
       "_model_module": "@jupyter-widgets/base",
       "_model_module_version": "1.2.0",
       "_model_name": "LayoutModel",
       "_view_count": null,
       "_view_module": "@jupyter-widgets/base",
       "_view_module_version": "1.2.0",
       "_view_name": "LayoutView",
       "align_content": null,
       "align_items": null,
       "align_self": null,
       "border": null,
       "bottom": null,
       "display": null,
       "flex": null,
       "flex_flow": null,
       "grid_area": null,
       "grid_auto_columns": null,
       "grid_auto_flow": null,
       "grid_auto_rows": null,
       "grid_column": null,
       "grid_gap": null,
       "grid_row": null,
       "grid_template_areas": null,
       "grid_template_columns": null,
       "grid_template_rows": null,
       "height": null,
       "justify_content": null,
       "justify_items": null,
       "left": null,
       "margin": null,
       "max_height": null,
       "max_width": null,
       "min_height": null,
       "min_width": null,
       "object_fit": null,
       "object_position": null,
       "order": null,
       "overflow": null,
       "overflow_x": null,
       "overflow_y": null,
       "padding": null,
       "right": null,
       "top": null,
       "visibility": null,
       "width": null
      }
     },
     "64cf118fdde643b0aef215bb8e73558c": {
      "model_module": "@jupyter-widgets/controls",
      "model_module_version": "1.5.0",
      "model_name": "DescriptionStyleModel",
      "state": {
       "_model_module": "@jupyter-widgets/controls",
       "_model_module_version": "1.5.0",
       "_model_name": "DescriptionStyleModel",
       "_view_count": null,
       "_view_module": "@jupyter-widgets/base",
       "_view_module_version": "1.2.0",
       "_view_name": "StyleView",
       "description_width": ""
      }
     },
     "674d9da862c74a02a99b95a08a0b85b3": {
      "model_module": "@jupyter-widgets/controls",
      "model_module_version": "1.5.0",
      "model_name": "ProgressStyleModel",
      "state": {
       "_model_module": "@jupyter-widgets/controls",
       "_model_module_version": "1.5.0",
       "_model_name": "ProgressStyleModel",
       "_view_count": null,
       "_view_module": "@jupyter-widgets/base",
       "_view_module_version": "1.2.0",
       "_view_name": "StyleView",
       "bar_color": null,
       "description_width": ""
      }
     },
     "715879516383444faf0cff1f7244b4b7": {
      "model_module": "@jupyter-widgets/controls",
      "model_module_version": "1.5.0",
      "model_name": "FloatProgressModel",
      "state": {
       "_dom_classes": [],
       "_model_module": "@jupyter-widgets/controls",
       "_model_module_version": "1.5.0",
       "_model_name": "FloatProgressModel",
       "_view_count": null,
       "_view_module": "@jupyter-widgets/controls",
       "_view_module_version": "1.5.0",
       "_view_name": "ProgressView",
       "bar_style": "success",
       "description": "",
       "description_tooltip": null,
       "layout": "IPY_MODEL_4c2a6657951a4678946d8387dbbbaeef",
       "max": 3,
       "min": 0,
       "orientation": "horizontal",
       "style": "IPY_MODEL_cc3af9ddc74e491a927571ff7785f160",
       "value": 3
      }
     },
     "8255f37f1f5442f782ccbb46d4817964": {
      "model_module": "@jupyter-widgets/base",
      "model_module_version": "1.2.0",
      "model_name": "LayoutModel",
      "state": {
       "_model_module": "@jupyter-widgets/base",
       "_model_module_version": "1.2.0",
       "_model_name": "LayoutModel",
       "_view_count": null,
       "_view_module": "@jupyter-widgets/base",
       "_view_module_version": "1.2.0",
       "_view_name": "LayoutView",
       "align_content": null,
       "align_items": null,
       "align_self": null,
       "border": null,
       "bottom": null,
       "display": null,
       "flex": null,
       "flex_flow": null,
       "grid_area": null,
       "grid_auto_columns": null,
       "grid_auto_flow": null,
       "grid_auto_rows": null,
       "grid_column": null,
       "grid_gap": null,
       "grid_row": null,
       "grid_template_areas": null,
       "grid_template_columns": null,
       "grid_template_rows": null,
       "height": null,
       "justify_content": null,
       "justify_items": null,
       "left": null,
       "margin": null,
       "max_height": null,
       "max_width": null,
       "min_height": null,
       "min_width": null,
       "object_fit": null,
       "object_position": null,
       "order": null,
       "overflow": null,
       "overflow_x": null,
       "overflow_y": null,
       "padding": null,
       "right": null,
       "top": null,
       "visibility": null,
       "width": null
      }
     },
     "93800bcea862463d991766b0c13ecd04": {
      "model_module": "@jupyter-widgets/base",
      "model_module_version": "1.2.0",
      "model_name": "LayoutModel",
      "state": {
       "_model_module": "@jupyter-widgets/base",
       "_model_module_version": "1.2.0",
       "_model_name": "LayoutModel",
       "_view_count": null,
       "_view_module": "@jupyter-widgets/base",
       "_view_module_version": "1.2.0",
       "_view_name": "LayoutView",
       "align_content": null,
       "align_items": null,
       "align_self": null,
       "border": null,
       "bottom": null,
       "display": null,
       "flex": null,
       "flex_flow": null,
       "grid_area": null,
       "grid_auto_columns": null,
       "grid_auto_flow": null,
       "grid_auto_rows": null,
       "grid_column": null,
       "grid_gap": null,
       "grid_row": null,
       "grid_template_areas": null,
       "grid_template_columns": null,
       "grid_template_rows": null,
       "height": null,
       "justify_content": null,
       "justify_items": null,
       "left": null,
       "margin": null,
       "max_height": null,
       "max_width": null,
       "min_height": null,
       "min_width": null,
       "object_fit": null,
       "object_position": null,
       "order": null,
       "overflow": null,
       "overflow_x": null,
       "overflow_y": null,
       "padding": null,
       "right": null,
       "top": null,
       "visibility": null,
       "width": null
      }
     },
     "96025a8798d346a4885ed7fc73576714": {
      "model_module": "@jupyter-widgets/controls",
      "model_module_version": "1.5.0",
      "model_name": "HTMLModel",
      "state": {
       "_dom_classes": [],
       "_model_module": "@jupyter-widgets/controls",
       "_model_module_version": "1.5.0",
       "_model_name": "HTMLModel",
       "_view_count": null,
       "_view_module": "@jupyter-widgets/controls",
       "_view_module_version": "1.5.0",
       "_view_name": "HTMLView",
       "description": "",
       "description_tooltip": null,
       "layout": "IPY_MODEL_8255f37f1f5442f782ccbb46d4817964",
       "placeholder": "​",
       "style": "IPY_MODEL_0b1a597bad9f42d3866fac71d17693d9",
       "value": "100%"
      }
     },
     "a8824a02beec49b78e06bb15199699f4": {
      "model_module": "@jupyter-widgets/controls",
      "model_module_version": "1.5.0",
      "model_name": "HBoxModel",
      "state": {
       "_dom_classes": [],
       "_model_module": "@jupyter-widgets/controls",
       "_model_module_version": "1.5.0",
       "_model_name": "HBoxModel",
       "_view_count": null,
       "_view_module": "@jupyter-widgets/controls",
       "_view_module_version": "1.5.0",
       "_view_name": "HBoxView",
       "box_style": "",
       "children": [
        "IPY_MODEL_0360c536c1794012bff940e0e3139d14",
        "IPY_MODEL_715879516383444faf0cff1f7244b4b7",
        "IPY_MODEL_147b93fdec4540d5ae45b406bbaa1736"
       ],
       "layout": "IPY_MODEL_ee37c95d26e44973912d8b87562546f2"
      }
     },
     "cc3af9ddc74e491a927571ff7785f160": {
      "model_module": "@jupyter-widgets/controls",
      "model_module_version": "1.5.0",
      "model_name": "ProgressStyleModel",
      "state": {
       "_model_module": "@jupyter-widgets/controls",
       "_model_module_version": "1.5.0",
       "_model_name": "ProgressStyleModel",
       "_view_count": null,
       "_view_module": "@jupyter-widgets/base",
       "_view_module_version": "1.2.0",
       "_view_name": "StyleView",
       "bar_color": null,
       "description_width": ""
      }
     },
     "ee37c95d26e44973912d8b87562546f2": {
      "model_module": "@jupyter-widgets/base",
      "model_module_version": "1.2.0",
      "model_name": "LayoutModel",
      "state": {
       "_model_module": "@jupyter-widgets/base",
       "_model_module_version": "1.2.0",
       "_model_name": "LayoutModel",
       "_view_count": null,
       "_view_module": "@jupyter-widgets/base",
       "_view_module_version": "1.2.0",
       "_view_name": "LayoutView",
       "align_content": null,
       "align_items": null,
       "align_self": null,
       "border": null,
       "bottom": null,
       "display": null,
       "flex": null,
       "flex_flow": null,
       "grid_area": null,
       "grid_auto_columns": null,
       "grid_auto_flow": null,
       "grid_auto_rows": null,
       "grid_column": null,
       "grid_gap": null,
       "grid_row": null,
       "grid_template_areas": null,
       "grid_template_columns": null,
       "grid_template_rows": null,
       "height": null,
       "justify_content": null,
       "justify_items": null,
       "left": null,
       "margin": null,
       "max_height": null,
       "max_width": null,
       "min_height": null,
       "min_width": null,
       "object_fit": null,
       "object_position": null,
       "order": null,
       "overflow": null,
       "overflow_x": null,
       "overflow_y": null,
       "padding": null,
       "right": null,
       "top": null,
       "visibility": null,
       "width": null
      }
     },
     "f4c91a15ea034f0ba6492d383d6de069": {
      "model_module": "@jupyter-widgets/base",
      "model_module_version": "1.2.0",
      "model_name": "LayoutModel",
      "state": {
       "_model_module": "@jupyter-widgets/base",
       "_model_module_version": "1.2.0",
       "_model_name": "LayoutModel",
       "_view_count": null,
       "_view_module": "@jupyter-widgets/base",
       "_view_module_version": "1.2.0",
       "_view_name": "LayoutView",
       "align_content": null,
       "align_items": null,
       "align_self": null,
       "border": null,
       "bottom": null,
       "display": null,
       "flex": null,
       "flex_flow": null,
       "grid_area": null,
       "grid_auto_columns": null,
       "grid_auto_flow": null,
       "grid_auto_rows": null,
       "grid_column": null,
       "grid_gap": null,
       "grid_row": null,
       "grid_template_areas": null,
       "grid_template_columns": null,
       "grid_template_rows": null,
       "height": null,
       "justify_content": null,
       "justify_items": null,
       "left": null,
       "margin": null,
       "max_height": null,
       "max_width": null,
       "min_height": null,
       "min_width": null,
       "object_fit": null,
       "object_position": null,
       "order": null,
       "overflow": null,
       "overflow_x": null,
       "overflow_y": null,
       "padding": null,
       "right": null,
       "top": null,
       "visibility": null,
       "width": null
      }
     },
     "f7f77dbbad624e93b64ca803d76304d7": {
      "model_module": "@jupyter-widgets/controls",
      "model_module_version": "1.5.0",
      "model_name": "FloatProgressModel",
      "state": {
       "_dom_classes": [],
       "_model_module": "@jupyter-widgets/controls",
       "_model_module_version": "1.5.0",
       "_model_name": "FloatProgressModel",
       "_view_count": null,
       "_view_module": "@jupyter-widgets/controls",
       "_view_module_version": "1.5.0",
       "_view_name": "ProgressView",
       "bar_style": "success",
       "description": "",
       "description_tooltip": null,
       "layout": "IPY_MODEL_93800bcea862463d991766b0c13ecd04",
       "max": 45,
       "min": 0,
       "orientation": "horizontal",
       "style": "IPY_MODEL_674d9da862c74a02a99b95a08a0b85b3",
       "value": 45
      }
     },
     "ff1220ee3dc346509d07dbe7d50d2fa8": {
      "model_module": "@jupyter-widgets/base",
      "model_module_version": "1.2.0",
      "model_name": "LayoutModel",
      "state": {
       "_model_module": "@jupyter-widgets/base",
       "_model_module_version": "1.2.0",
       "_model_name": "LayoutModel",
       "_view_count": null,
       "_view_module": "@jupyter-widgets/base",
       "_view_module_version": "1.2.0",
       "_view_name": "LayoutView",
       "align_content": null,
       "align_items": null,
       "align_self": null,
       "border": null,
       "bottom": null,
       "display": null,
       "flex": null,
       "flex_flow": null,
       "grid_area": null,
       "grid_auto_columns": null,
       "grid_auto_flow": null,
       "grid_auto_rows": null,
       "grid_column": null,
       "grid_gap": null,
       "grid_row": null,
       "grid_template_areas": null,
       "grid_template_columns": null,
       "grid_template_rows": null,
       "height": null,
       "justify_content": null,
       "justify_items": null,
       "left": null,
       "margin": null,
       "max_height": null,
       "max_width": null,
       "min_height": null,
       "min_width": null,
       "object_fit": null,
       "object_position": null,
       "order": null,
       "overflow": null,
       "overflow_x": null,
       "overflow_y": null,
       "padding": null,
       "right": null,
       "top": null,
       "visibility": null,
       "width": null
      }
     }
    },
    "version_major": 2,
    "version_minor": 0
   }
  }
 },
 "nbformat": 4,
 "nbformat_minor": 5
}
